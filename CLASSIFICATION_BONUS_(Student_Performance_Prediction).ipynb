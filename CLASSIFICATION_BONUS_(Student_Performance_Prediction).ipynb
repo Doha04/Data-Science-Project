{
  "cells": [
    {
      "cell_type": "markdown",
      "metadata": {
        "id": "9nIGgmmIrqtL"
      },
      "source": [
        "\n",
        " **students academic performance**"
      ]
    },
    {
      "cell_type": "markdown",
      "metadata": {
        "id": "eCCCkDShpkV-"
      },
      "source": [
        "importing necessary packages"
      ]
    },
    {
      "cell_type": "code",
      "execution_count": 2,
      "metadata": {
        "id": "8pEd8OPorZdj"
      },
      "outputs": [],
      "source": [
        "import pandas as pd\n",
        "import numpy as np\n",
        "import matplotlib.pyplot as plt\n",
        "import seaborn as sns\n",
        "from sklearn import metrics as met\n",
        "from sklearn.model_selection import train_test_split\n",
        "from sklearn.linear_model import LogisticRegression\n",
        "from sklearn.tree import DecisionTreeClassifier\n",
        "from sklearn.naive_bayes import GaussianNB\n",
        "from sklearn.neural_network import MLPClassifier\n",
        "from sklearn.neighbors import KNeighborsClassifier\n",
        "from sklearn.metrics import accuracy_score,classification_report,confusion_matrix\n",
        "%matplotlib inline"
      ]
    },
    {
      "cell_type": "code",
      "execution_count": 3,
      "metadata": {
        "id": "wGpBkL1Q8kry"
      },
      "outputs": [],
      "source": [
        "dataset=pd.read_csv('Student Classification Data.csv')"
      ]
    },
    {
      "cell_type": "code",
      "execution_count": 4,
      "metadata": {
        "colab": {
          "base_uri": "https://localhost:8080/",
          "height": 443
        },
        "id": "kWywQB3FHtpH",
        "outputId": "54de88e7-e730-4a6d-a343-04832c924731"
      },
      "outputs": [
        {
          "data": {
            "text/html": [
              "<div>\n",
              "<style scoped>\n",
              "    .dataframe tbody tr th:only-of-type {\n",
              "        vertical-align: middle;\n",
              "    }\n",
              "\n",
              "    .dataframe tbody tr th {\n",
              "        vertical-align: top;\n",
              "    }\n",
              "\n",
              "    .dataframe thead th {\n",
              "        text-align: right;\n",
              "    }\n",
              "</style>\n",
              "<table border=\"1\" class=\"dataframe\">\n",
              "  <thead>\n",
              "    <tr style=\"text-align: right;\">\n",
              "      <th></th>\n",
              "      <th>gender</th>\n",
              "      <th>NationalITy</th>\n",
              "      <th>PlaceofBirth</th>\n",
              "      <th>StageID</th>\n",
              "      <th>GradeID</th>\n",
              "      <th>SectionID</th>\n",
              "      <th>Topic</th>\n",
              "      <th>Semester</th>\n",
              "      <th>Relation</th>\n",
              "      <th>raisedhands</th>\n",
              "      <th>VisITedResources</th>\n",
              "      <th>AnnouncementsView</th>\n",
              "      <th>Discussion</th>\n",
              "      <th>ParentAnsweringSurvey</th>\n",
              "      <th>ParentschoolSatisfaction</th>\n",
              "      <th>StudentAbsenceDays</th>\n",
              "      <th>Class</th>\n",
              "    </tr>\n",
              "  </thead>\n",
              "  <tbody>\n",
              "    <tr>\n",
              "      <th>0</th>\n",
              "      <td>M</td>\n",
              "      <td>KW</td>\n",
              "      <td>KuwaIT</td>\n",
              "      <td>lowerlevel</td>\n",
              "      <td>G-04</td>\n",
              "      <td>A</td>\n",
              "      <td>IT</td>\n",
              "      <td>F</td>\n",
              "      <td>Father</td>\n",
              "      <td>15</td>\n",
              "      <td>16</td>\n",
              "      <td>2</td>\n",
              "      <td>20</td>\n",
              "      <td>Yes</td>\n",
              "      <td>Good</td>\n",
              "      <td>Under-7</td>\n",
              "      <td>M</td>\n",
              "    </tr>\n",
              "    <tr>\n",
              "      <th>1</th>\n",
              "      <td>M</td>\n",
              "      <td>KW</td>\n",
              "      <td>KuwaIT</td>\n",
              "      <td>lowerlevel</td>\n",
              "      <td>G-04</td>\n",
              "      <td>A</td>\n",
              "      <td>IT</td>\n",
              "      <td>F</td>\n",
              "      <td>Father</td>\n",
              "      <td>20</td>\n",
              "      <td>20</td>\n",
              "      <td>3</td>\n",
              "      <td>25</td>\n",
              "      <td>Yes</td>\n",
              "      <td>Good</td>\n",
              "      <td>Under-7</td>\n",
              "      <td>M</td>\n",
              "    </tr>\n",
              "    <tr>\n",
              "      <th>2</th>\n",
              "      <td>M</td>\n",
              "      <td>KW</td>\n",
              "      <td>KuwaIT</td>\n",
              "      <td>lowerlevel</td>\n",
              "      <td>G-04</td>\n",
              "      <td>A</td>\n",
              "      <td>IT</td>\n",
              "      <td>F</td>\n",
              "      <td>Father</td>\n",
              "      <td>10</td>\n",
              "      <td>7</td>\n",
              "      <td>0</td>\n",
              "      <td>30</td>\n",
              "      <td>No</td>\n",
              "      <td>Bad</td>\n",
              "      <td>Above-7</td>\n",
              "      <td>L</td>\n",
              "    </tr>\n",
              "    <tr>\n",
              "      <th>3</th>\n",
              "      <td>M</td>\n",
              "      <td>KW</td>\n",
              "      <td>KuwaIT</td>\n",
              "      <td>lowerlevel</td>\n",
              "      <td>G-04</td>\n",
              "      <td>A</td>\n",
              "      <td>IT</td>\n",
              "      <td>F</td>\n",
              "      <td>Father</td>\n",
              "      <td>30</td>\n",
              "      <td>25</td>\n",
              "      <td>5</td>\n",
              "      <td>35</td>\n",
              "      <td>No</td>\n",
              "      <td>Bad</td>\n",
              "      <td>Above-7</td>\n",
              "      <td>L</td>\n",
              "    </tr>\n",
              "    <tr>\n",
              "      <th>4</th>\n",
              "      <td>M</td>\n",
              "      <td>KW</td>\n",
              "      <td>KuwaIT</td>\n",
              "      <td>lowerlevel</td>\n",
              "      <td>G-04</td>\n",
              "      <td>A</td>\n",
              "      <td>IT</td>\n",
              "      <td>F</td>\n",
              "      <td>Father</td>\n",
              "      <td>40</td>\n",
              "      <td>50</td>\n",
              "      <td>12</td>\n",
              "      <td>50</td>\n",
              "      <td>No</td>\n",
              "      <td>Bad</td>\n",
              "      <td>Above-7</td>\n",
              "      <td>M</td>\n",
              "    </tr>\n",
              "    <tr>\n",
              "      <th>...</th>\n",
              "      <td>...</td>\n",
              "      <td>...</td>\n",
              "      <td>...</td>\n",
              "      <td>...</td>\n",
              "      <td>...</td>\n",
              "      <td>...</td>\n",
              "      <td>...</td>\n",
              "      <td>...</td>\n",
              "      <td>...</td>\n",
              "      <td>...</td>\n",
              "      <td>...</td>\n",
              "      <td>...</td>\n",
              "      <td>...</td>\n",
              "      <td>...</td>\n",
              "      <td>...</td>\n",
              "      <td>...</td>\n",
              "      <td>...</td>\n",
              "    </tr>\n",
              "    <tr>\n",
              "      <th>475</th>\n",
              "      <td>F</td>\n",
              "      <td>Jordan</td>\n",
              "      <td>Jordan</td>\n",
              "      <td>MiddleSchool</td>\n",
              "      <td>G-08</td>\n",
              "      <td>A</td>\n",
              "      <td>Chemistry</td>\n",
              "      <td>S</td>\n",
              "      <td>Father</td>\n",
              "      <td>5</td>\n",
              "      <td>4</td>\n",
              "      <td>5</td>\n",
              "      <td>8</td>\n",
              "      <td>No</td>\n",
              "      <td>Bad</td>\n",
              "      <td>Above-7</td>\n",
              "      <td>L</td>\n",
              "    </tr>\n",
              "    <tr>\n",
              "      <th>476</th>\n",
              "      <td>F</td>\n",
              "      <td>Jordan</td>\n",
              "      <td>Jordan</td>\n",
              "      <td>MiddleSchool</td>\n",
              "      <td>G-08</td>\n",
              "      <td>A</td>\n",
              "      <td>Geology</td>\n",
              "      <td>F</td>\n",
              "      <td>Father</td>\n",
              "      <td>50</td>\n",
              "      <td>77</td>\n",
              "      <td>14</td>\n",
              "      <td>28</td>\n",
              "      <td>No</td>\n",
              "      <td>Bad</td>\n",
              "      <td>Under-7</td>\n",
              "      <td>M</td>\n",
              "    </tr>\n",
              "    <tr>\n",
              "      <th>477</th>\n",
              "      <td>F</td>\n",
              "      <td>Jordan</td>\n",
              "      <td>Jordan</td>\n",
              "      <td>MiddleSchool</td>\n",
              "      <td>G-08</td>\n",
              "      <td>A</td>\n",
              "      <td>Geology</td>\n",
              "      <td>S</td>\n",
              "      <td>Father</td>\n",
              "      <td>55</td>\n",
              "      <td>74</td>\n",
              "      <td>25</td>\n",
              "      <td>29</td>\n",
              "      <td>No</td>\n",
              "      <td>Bad</td>\n",
              "      <td>Under-7</td>\n",
              "      <td>M</td>\n",
              "    </tr>\n",
              "    <tr>\n",
              "      <th>478</th>\n",
              "      <td>F</td>\n",
              "      <td>Jordan</td>\n",
              "      <td>Jordan</td>\n",
              "      <td>MiddleSchool</td>\n",
              "      <td>G-08</td>\n",
              "      <td>A</td>\n",
              "      <td>History</td>\n",
              "      <td>F</td>\n",
              "      <td>Father</td>\n",
              "      <td>30</td>\n",
              "      <td>17</td>\n",
              "      <td>14</td>\n",
              "      <td>57</td>\n",
              "      <td>No</td>\n",
              "      <td>Bad</td>\n",
              "      <td>Above-7</td>\n",
              "      <td>L</td>\n",
              "    </tr>\n",
              "    <tr>\n",
              "      <th>479</th>\n",
              "      <td>F</td>\n",
              "      <td>Jordan</td>\n",
              "      <td>Jordan</td>\n",
              "      <td>MiddleSchool</td>\n",
              "      <td>G-08</td>\n",
              "      <td>A</td>\n",
              "      <td>History</td>\n",
              "      <td>S</td>\n",
              "      <td>Father</td>\n",
              "      <td>35</td>\n",
              "      <td>14</td>\n",
              "      <td>23</td>\n",
              "      <td>62</td>\n",
              "      <td>No</td>\n",
              "      <td>Bad</td>\n",
              "      <td>Above-7</td>\n",
              "      <td>L</td>\n",
              "    </tr>\n",
              "  </tbody>\n",
              "</table>\n",
              "<p>480 rows × 17 columns</p>\n",
              "</div>"
            ],
            "text/plain": [
              "    gender NationalITy PlaceofBirth       StageID GradeID SectionID  \\\n",
              "0        M          KW       KuwaIT    lowerlevel    G-04         A   \n",
              "1        M          KW       KuwaIT    lowerlevel    G-04         A   \n",
              "2        M          KW       KuwaIT    lowerlevel    G-04         A   \n",
              "3        M          KW       KuwaIT    lowerlevel    G-04         A   \n",
              "4        M          KW       KuwaIT    lowerlevel    G-04         A   \n",
              "..     ...         ...          ...           ...     ...       ...   \n",
              "475      F      Jordan       Jordan  MiddleSchool    G-08         A   \n",
              "476      F      Jordan       Jordan  MiddleSchool    G-08         A   \n",
              "477      F      Jordan       Jordan  MiddleSchool    G-08         A   \n",
              "478      F      Jordan       Jordan  MiddleSchool    G-08         A   \n",
              "479      F      Jordan       Jordan  MiddleSchool    G-08         A   \n",
              "\n",
              "         Topic Semester Relation  raisedhands  VisITedResources  \\\n",
              "0           IT        F   Father           15                16   \n",
              "1           IT        F   Father           20                20   \n",
              "2           IT        F   Father           10                 7   \n",
              "3           IT        F   Father           30                25   \n",
              "4           IT        F   Father           40                50   \n",
              "..         ...      ...      ...          ...               ...   \n",
              "475  Chemistry        S   Father            5                 4   \n",
              "476    Geology        F   Father           50                77   \n",
              "477    Geology        S   Father           55                74   \n",
              "478    History        F   Father           30                17   \n",
              "479    History        S   Father           35                14   \n",
              "\n",
              "     AnnouncementsView  Discussion ParentAnsweringSurvey  \\\n",
              "0                    2          20                   Yes   \n",
              "1                    3          25                   Yes   \n",
              "2                    0          30                    No   \n",
              "3                    5          35                    No   \n",
              "4                   12          50                    No   \n",
              "..                 ...         ...                   ...   \n",
              "475                  5           8                    No   \n",
              "476                 14          28                    No   \n",
              "477                 25          29                    No   \n",
              "478                 14          57                    No   \n",
              "479                 23          62                    No   \n",
              "\n",
              "    ParentschoolSatisfaction StudentAbsenceDays Class  \n",
              "0                       Good            Under-7     M  \n",
              "1                       Good            Under-7     M  \n",
              "2                        Bad            Above-7     L  \n",
              "3                        Bad            Above-7     L  \n",
              "4                        Bad            Above-7     M  \n",
              "..                       ...                ...   ...  \n",
              "475                      Bad            Above-7     L  \n",
              "476                      Bad            Under-7     M  \n",
              "477                      Bad            Under-7     M  \n",
              "478                      Bad            Above-7     L  \n",
              "479                      Bad            Above-7     L  \n",
              "\n",
              "[480 rows x 17 columns]"
            ]
          },
          "execution_count": 4,
          "metadata": {},
          "output_type": "execute_result"
        }
      ],
      "source": [
        "dataset"
      ]
    },
    {
      "cell_type": "code",
      "execution_count": 5,
      "metadata": {
        "colab": {
          "base_uri": "https://localhost:8080/",
          "height": 226
        },
        "id": "s7CRqR07Alp4",
        "outputId": "617e9e17-4d83-4760-eb21-18bd5103ae2d"
      },
      "outputs": [
        {
          "data": {
            "text/html": [
              "<div>\n",
              "<style scoped>\n",
              "    .dataframe tbody tr th:only-of-type {\n",
              "        vertical-align: middle;\n",
              "    }\n",
              "\n",
              "    .dataframe tbody tr th {\n",
              "        vertical-align: top;\n",
              "    }\n",
              "\n",
              "    .dataframe thead th {\n",
              "        text-align: right;\n",
              "    }\n",
              "</style>\n",
              "<table border=\"1\" class=\"dataframe\">\n",
              "  <thead>\n",
              "    <tr style=\"text-align: right;\">\n",
              "      <th></th>\n",
              "      <th>gender</th>\n",
              "      <th>NationalITy</th>\n",
              "      <th>PlaceofBirth</th>\n",
              "      <th>StageID</th>\n",
              "      <th>GradeID</th>\n",
              "      <th>SectionID</th>\n",
              "      <th>Topic</th>\n",
              "      <th>Semester</th>\n",
              "      <th>Relation</th>\n",
              "      <th>raisedhands</th>\n",
              "      <th>VisITedResources</th>\n",
              "      <th>AnnouncementsView</th>\n",
              "      <th>Discussion</th>\n",
              "      <th>ParentAnsweringSurvey</th>\n",
              "      <th>ParentschoolSatisfaction</th>\n",
              "      <th>StudentAbsenceDays</th>\n",
              "      <th>Class</th>\n",
              "    </tr>\n",
              "  </thead>\n",
              "  <tbody>\n",
              "    <tr>\n",
              "      <th>0</th>\n",
              "      <td>M</td>\n",
              "      <td>KW</td>\n",
              "      <td>KuwaIT</td>\n",
              "      <td>lowerlevel</td>\n",
              "      <td>G-04</td>\n",
              "      <td>A</td>\n",
              "      <td>IT</td>\n",
              "      <td>F</td>\n",
              "      <td>Father</td>\n",
              "      <td>15</td>\n",
              "      <td>16</td>\n",
              "      <td>2</td>\n",
              "      <td>20</td>\n",
              "      <td>Yes</td>\n",
              "      <td>Good</td>\n",
              "      <td>Under-7</td>\n",
              "      <td>M</td>\n",
              "    </tr>\n",
              "    <tr>\n",
              "      <th>1</th>\n",
              "      <td>M</td>\n",
              "      <td>KW</td>\n",
              "      <td>KuwaIT</td>\n",
              "      <td>lowerlevel</td>\n",
              "      <td>G-04</td>\n",
              "      <td>A</td>\n",
              "      <td>IT</td>\n",
              "      <td>F</td>\n",
              "      <td>Father</td>\n",
              "      <td>20</td>\n",
              "      <td>20</td>\n",
              "      <td>3</td>\n",
              "      <td>25</td>\n",
              "      <td>Yes</td>\n",
              "      <td>Good</td>\n",
              "      <td>Under-7</td>\n",
              "      <td>M</td>\n",
              "    </tr>\n",
              "    <tr>\n",
              "      <th>2</th>\n",
              "      <td>M</td>\n",
              "      <td>KW</td>\n",
              "      <td>KuwaIT</td>\n",
              "      <td>lowerlevel</td>\n",
              "      <td>G-04</td>\n",
              "      <td>A</td>\n",
              "      <td>IT</td>\n",
              "      <td>F</td>\n",
              "      <td>Father</td>\n",
              "      <td>10</td>\n",
              "      <td>7</td>\n",
              "      <td>0</td>\n",
              "      <td>30</td>\n",
              "      <td>No</td>\n",
              "      <td>Bad</td>\n",
              "      <td>Above-7</td>\n",
              "      <td>L</td>\n",
              "    </tr>\n",
              "    <tr>\n",
              "      <th>3</th>\n",
              "      <td>M</td>\n",
              "      <td>KW</td>\n",
              "      <td>KuwaIT</td>\n",
              "      <td>lowerlevel</td>\n",
              "      <td>G-04</td>\n",
              "      <td>A</td>\n",
              "      <td>IT</td>\n",
              "      <td>F</td>\n",
              "      <td>Father</td>\n",
              "      <td>30</td>\n",
              "      <td>25</td>\n",
              "      <td>5</td>\n",
              "      <td>35</td>\n",
              "      <td>No</td>\n",
              "      <td>Bad</td>\n",
              "      <td>Above-7</td>\n",
              "      <td>L</td>\n",
              "    </tr>\n",
              "    <tr>\n",
              "      <th>4</th>\n",
              "      <td>M</td>\n",
              "      <td>KW</td>\n",
              "      <td>KuwaIT</td>\n",
              "      <td>lowerlevel</td>\n",
              "      <td>G-04</td>\n",
              "      <td>A</td>\n",
              "      <td>IT</td>\n",
              "      <td>F</td>\n",
              "      <td>Father</td>\n",
              "      <td>40</td>\n",
              "      <td>50</td>\n",
              "      <td>12</td>\n",
              "      <td>50</td>\n",
              "      <td>No</td>\n",
              "      <td>Bad</td>\n",
              "      <td>Above-7</td>\n",
              "      <td>M</td>\n",
              "    </tr>\n",
              "  </tbody>\n",
              "</table>\n",
              "</div>"
            ],
            "text/plain": [
              "  gender NationalITy PlaceofBirth     StageID GradeID SectionID Topic  \\\n",
              "0      M          KW       KuwaIT  lowerlevel    G-04         A    IT   \n",
              "1      M          KW       KuwaIT  lowerlevel    G-04         A    IT   \n",
              "2      M          KW       KuwaIT  lowerlevel    G-04         A    IT   \n",
              "3      M          KW       KuwaIT  lowerlevel    G-04         A    IT   \n",
              "4      M          KW       KuwaIT  lowerlevel    G-04         A    IT   \n",
              "\n",
              "  Semester Relation  raisedhands  VisITedResources  AnnouncementsView  \\\n",
              "0        F   Father           15                16                  2   \n",
              "1        F   Father           20                20                  3   \n",
              "2        F   Father           10                 7                  0   \n",
              "3        F   Father           30                25                  5   \n",
              "4        F   Father           40                50                 12   \n",
              "\n",
              "   Discussion ParentAnsweringSurvey ParentschoolSatisfaction  \\\n",
              "0          20                   Yes                     Good   \n",
              "1          25                   Yes                     Good   \n",
              "2          30                    No                      Bad   \n",
              "3          35                    No                      Bad   \n",
              "4          50                    No                      Bad   \n",
              "\n",
              "  StudentAbsenceDays Class  \n",
              "0            Under-7     M  \n",
              "1            Under-7     M  \n",
              "2            Above-7     L  \n",
              "3            Above-7     L  \n",
              "4            Above-7     M  "
            ]
          },
          "execution_count": 5,
          "metadata": {},
          "output_type": "execute_result"
        }
      ],
      "source": [
        "dataset.head()"
      ]
    },
    {
      "cell_type": "code",
      "execution_count": 6,
      "metadata": {
        "colab": {
          "base_uri": "https://localhost:8080/"
        },
        "id": "BY3_-0Ddt-xH",
        "outputId": "318c7a78-618e-4dbb-b248-411eef74f503"
      },
      "outputs": [
        {
          "data": {
            "text/plain": [
              "(480, 17)"
            ]
          },
          "execution_count": 6,
          "metadata": {},
          "output_type": "execute_result"
        }
      ],
      "source": [
        "dataset.shape"
      ]
    },
    {
      "cell_type": "code",
      "execution_count": 7,
      "metadata": {
        "colab": {
          "base_uri": "https://localhost:8080/",
          "height": 203
        },
        "id": "jiV5sYiLuwDU",
        "outputId": "8d04f6db-1755-4e94-fdc8-d3421049dadd"
      },
      "outputs": [
        {
          "data": {
            "text/plain": [
              "<bound method DataFrame.info of     gender NationalITy PlaceofBirth       StageID GradeID SectionID  \\\n",
              "0        M          KW       KuwaIT    lowerlevel    G-04         A   \n",
              "1        M          KW       KuwaIT    lowerlevel    G-04         A   \n",
              "2        M          KW       KuwaIT    lowerlevel    G-04         A   \n",
              "3        M          KW       KuwaIT    lowerlevel    G-04         A   \n",
              "4        M          KW       KuwaIT    lowerlevel    G-04         A   \n",
              "..     ...         ...          ...           ...     ...       ...   \n",
              "475      F      Jordan       Jordan  MiddleSchool    G-08         A   \n",
              "476      F      Jordan       Jordan  MiddleSchool    G-08         A   \n",
              "477      F      Jordan       Jordan  MiddleSchool    G-08         A   \n",
              "478      F      Jordan       Jordan  MiddleSchool    G-08         A   \n",
              "479      F      Jordan       Jordan  MiddleSchool    G-08         A   \n",
              "\n",
              "         Topic Semester Relation  raisedhands  VisITedResources  \\\n",
              "0           IT        F   Father           15                16   \n",
              "1           IT        F   Father           20                20   \n",
              "2           IT        F   Father           10                 7   \n",
              "3           IT        F   Father           30                25   \n",
              "4           IT        F   Father           40                50   \n",
              "..         ...      ...      ...          ...               ...   \n",
              "475  Chemistry        S   Father            5                 4   \n",
              "476    Geology        F   Father           50                77   \n",
              "477    Geology        S   Father           55                74   \n",
              "478    History        F   Father           30                17   \n",
              "479    History        S   Father           35                14   \n",
              "\n",
              "     AnnouncementsView  Discussion ParentAnsweringSurvey  \\\n",
              "0                    2          20                   Yes   \n",
              "1                    3          25                   Yes   \n",
              "2                    0          30                    No   \n",
              "3                    5          35                    No   \n",
              "4                   12          50                    No   \n",
              "..                 ...         ...                   ...   \n",
              "475                  5           8                    No   \n",
              "476                 14          28                    No   \n",
              "477                 25          29                    No   \n",
              "478                 14          57                    No   \n",
              "479                 23          62                    No   \n",
              "\n",
              "    ParentschoolSatisfaction StudentAbsenceDays Class  \n",
              "0                       Good            Under-7     M  \n",
              "1                       Good            Under-7     M  \n",
              "2                        Bad            Above-7     L  \n",
              "3                        Bad            Above-7     L  \n",
              "4                        Bad            Above-7     M  \n",
              "..                       ...                ...   ...  \n",
              "475                      Bad            Above-7     L  \n",
              "476                      Bad            Under-7     M  \n",
              "477                      Bad            Under-7     M  \n",
              "478                      Bad            Above-7     L  \n",
              "479                      Bad            Above-7     L  \n",
              "\n",
              "[480 rows x 17 columns]>"
            ]
          },
          "execution_count": 7,
          "metadata": {},
          "output_type": "execute_result"
        }
      ],
      "source": [
        "dataset.info"
      ]
    },
    {
      "cell_type": "markdown",
      "metadata": {
        "id": "ebRTKkzNpt3h"
      },
      "source": [
        "checking for no of unique values in the attributes"
      ]
    },
    {
      "cell_type": "code",
      "execution_count": 8,
      "metadata": {
        "colab": {
          "base_uri": "https://localhost:8080/"
        },
        "id": "Gt8rCVdevs7R",
        "outputId": "ed6d84f1-8ab4-45ec-a34b-32a599b46c3b"
      },
      "outputs": [
        {
          "data": {
            "text/plain": [
              "gender                       2\n",
              "NationalITy                 14\n",
              "PlaceofBirth                14\n",
              "StageID                      3\n",
              "GradeID                     10\n",
              "SectionID                    3\n",
              "Topic                       12\n",
              "Semester                     2\n",
              "Relation                     2\n",
              "raisedhands                 82\n",
              "VisITedResources            89\n",
              "AnnouncementsView           88\n",
              "Discussion                  90\n",
              "ParentAnsweringSurvey        2\n",
              "ParentschoolSatisfaction     2\n",
              "StudentAbsenceDays           2\n",
              "Class                        3\n",
              "dtype: int64"
            ]
          },
          "execution_count": 8,
          "metadata": {},
          "output_type": "execute_result"
        }
      ],
      "source": [
        "dataset.nunique()"
      ]
    },
    {
      "cell_type": "code",
      "execution_count": 9,
      "metadata": {
        "colab": {
          "base_uri": "https://localhost:8080/"
        },
        "id": "Yj-NIYPFv1Z9",
        "outputId": "b097d832-1e1d-4cd8-b8a3-bb37ddede2d9"
      },
      "outputs": [
        {
          "data": {
            "text/plain": [
              "gender                      0\n",
              "NationalITy                 0\n",
              "PlaceofBirth                0\n",
              "StageID                     0\n",
              "GradeID                     0\n",
              "SectionID                   0\n",
              "Topic                       0\n",
              "Semester                    0\n",
              "Relation                    0\n",
              "raisedhands                 0\n",
              "VisITedResources            0\n",
              "AnnouncementsView           0\n",
              "Discussion                  0\n",
              "ParentAnsweringSurvey       0\n",
              "ParentschoolSatisfaction    0\n",
              "StudentAbsenceDays          0\n",
              "Class                       0\n",
              "dtype: int64"
            ]
          },
          "execution_count": 9,
          "metadata": {},
          "output_type": "execute_result"
        }
      ],
      "source": [
        "dataset.isnull().sum()"
      ]
    },
    {
      "cell_type": "code",
      "execution_count": 10,
      "metadata": {
        "colab": {
          "base_uri": "https://localhost:8080/",
          "height": 206
        },
        "id": "X_V5x01lN0or",
        "outputId": "9e996fbf-e81c-4d9e-86d5-b19de714641f"
      },
      "outputs": [
        {
          "data": {
            "text/html": [
              "<div>\n",
              "<style scoped>\n",
              "    .dataframe tbody tr th:only-of-type {\n",
              "        vertical-align: middle;\n",
              "    }\n",
              "\n",
              "    .dataframe tbody tr th {\n",
              "        vertical-align: top;\n",
              "    }\n",
              "\n",
              "    .dataframe thead th {\n",
              "        text-align: right;\n",
              "    }\n",
              "</style>\n",
              "<table border=\"1\" class=\"dataframe\">\n",
              "  <thead>\n",
              "    <tr style=\"text-align: right;\">\n",
              "      <th></th>\n",
              "      <th>raisedhands</th>\n",
              "      <th>VisITedResources</th>\n",
              "      <th>AnnouncementsView</th>\n",
              "      <th>Discussion</th>\n",
              "    </tr>\n",
              "  </thead>\n",
              "  <tbody>\n",
              "    <tr>\n",
              "      <th>raisedhands</th>\n",
              "      <td>1.000000</td>\n",
              "      <td>0.691572</td>\n",
              "      <td>0.643918</td>\n",
              "      <td>0.339386</td>\n",
              "    </tr>\n",
              "    <tr>\n",
              "      <th>VisITedResources</th>\n",
              "      <td>0.691572</td>\n",
              "      <td>1.000000</td>\n",
              "      <td>0.594500</td>\n",
              "      <td>0.243292</td>\n",
              "    </tr>\n",
              "    <tr>\n",
              "      <th>AnnouncementsView</th>\n",
              "      <td>0.643918</td>\n",
              "      <td>0.594500</td>\n",
              "      <td>1.000000</td>\n",
              "      <td>0.417290</td>\n",
              "    </tr>\n",
              "    <tr>\n",
              "      <th>Discussion</th>\n",
              "      <td>0.339386</td>\n",
              "      <td>0.243292</td>\n",
              "      <td>0.417290</td>\n",
              "      <td>1.000000</td>\n",
              "    </tr>\n",
              "  </tbody>\n",
              "</table>\n",
              "</div>"
            ],
            "text/plain": [
              "                   raisedhands  VisITedResources  AnnouncementsView  \\\n",
              "raisedhands           1.000000          0.691572           0.643918   \n",
              "VisITedResources      0.691572          1.000000           0.594500   \n",
              "AnnouncementsView     0.643918          0.594500           1.000000   \n",
              "Discussion            0.339386          0.243292           0.417290   \n",
              "\n",
              "                   Discussion  \n",
              "raisedhands          0.339386  \n",
              "VisITedResources     0.243292  \n",
              "AnnouncementsView    0.417290  \n",
              "Discussion           1.000000  "
            ]
          },
          "execution_count": 10,
          "metadata": {},
          "output_type": "execute_result"
        }
      ],
      "source": [
        "dataset.corr(numeric_only=True)"
      ]
    },
    {
      "cell_type": "code",
      "execution_count": 11,
      "metadata": {
        "colab": {
          "base_uri": "https://localhost:8080/",
          "height": 984
        },
        "id": "YE1yCvF3N8dZ",
        "outputId": "d37ab1ab-da97-4c22-db9b-336ed5cc862c"
      },
      "outputs": [
        {
          "data": {
            "text/plain": [
              "<Axes: >"
            ]
          },
          "execution_count": 11,
          "metadata": {},
          "output_type": "execute_result"
        },
        {
          "data": {
            "image/png": "[encoded data removed]",
            "text/plain": [
              "<Figure size 1000x1000 with 2 Axes>"
            ]
          },
          "metadata": {},
          "output_type": "display_data"
        }
      ],
      "source": [
        "plt.figure(figsize=(10,10))\n",
        "sns.heatmap(dataset.corr(numeric_only=True))"
      ]
    },
    {
      "cell_type": "markdown",
      "metadata": {
        "id": "8adNLJREStHI"
      },
      "source": [
        "changing Categorical value to numerical value"
      ]
    },
    {
      "cell_type": "code",
      "execution_count": 12,
      "metadata": {
        "colab": {
          "base_uri": "https://localhost:8080/"
        },
        "id": "FVNuCPnxwwhZ",
        "outputId": "d4a93dba-357f-49ee-d165-22b6cb8af82a"
      },
      "outputs": [
        {
          "data": {
            "text/plain": [
              "array(['M', 'F'], dtype=object)"
            ]
          },
          "execution_count": 12,
          "metadata": {},
          "output_type": "execute_result"
        }
      ],
      "source": [
        "dataset['gender'].unique()"
      ]
    },
    {
      "cell_type": "code",
      "execution_count": 13,
      "metadata": {
        "colab": {
          "base_uri": "https://localhost:8080/",
          "height": 228
        },
        "id": "JHPGtbptJJFj",
        "outputId": "68ef3d4d-cd58-4f26-f414-e7a7776013e4"
      },
      "outputs": [],
      "source": [
        "gender = {'M': 1,'F': 2}\n",
        "dataset.gender = [gender[item] for item in dataset.gender]"
      ]
    },
    {
      "cell_type": "code",
      "execution_count": 14,
      "metadata": {
        "colab": {
          "base_uri": "https://localhost:8080/"
        },
        "id": "zYetRhLJJz-9",
        "outputId": "57102ba3-8e11-4005-bf1b-000f03ecbaeb"
      },
      "outputs": [
        {
          "data": {
            "text/plain": [
              "array([1, 2], dtype=int64)"
            ]
          },
          "execution_count": 14,
          "metadata": {},
          "output_type": "execute_result"
        }
      ],
      "source": [
        "dataset['gender'].unique()"
      ]
    },
    {
      "cell_type": "code",
      "execution_count": 15,
      "metadata": {
        "colab": {
          "base_uri": "https://localhost:8080/"
        },
        "id": "lAZ3h0vIE2PU",
        "outputId": "4833e882-6a86-4c9d-f3c5-3b72e1717187"
      },
      "outputs": [
        {
          "data": {
            "text/plain": [
              "array(['KuwaIT', 'lebanon', 'Egypt', 'SaudiArabia', 'USA', 'Jordan',\n",
              "       'venzuela', 'Iran', 'Tunis', 'Morocco', 'Syria', 'Iraq',\n",
              "       'Palestine', 'Lybia'], dtype=object)"
            ]
          },
          "execution_count": 15,
          "metadata": {},
          "output_type": "execute_result"
        }
      ],
      "source": [
        "dataset['PlaceofBirth'].unique()"
      ]
    },
    {
      "cell_type": "code",
      "execution_count": 16,
      "metadata": {
        "colab": {
          "base_uri": "https://localhost:8080/"
        },
        "id": "vjUkvYUjIDn1",
        "outputId": "e661a85e-b969-4bdc-9513-5471a4c7e914"
      },
      "outputs": [
        {
          "data": {
            "text/plain": [
              "array(['KW', 'lebanon', 'Egypt', 'SaudiArabia', 'USA', 'Jordan',\n",
              "       'venzuela', 'Iran', 'Tunis', 'Morocco', 'Syria', 'Palestine',\n",
              "       'Iraq', 'Lybia'], dtype=object)"
            ]
          },
          "execution_count": 16,
          "metadata": {},
          "output_type": "execute_result"
        }
      ],
      "source": [
        "dataset['NationalITy'].unique()"
      ]
    },
    {
      "cell_type": "code",
      "execution_count": 17,
      "metadata": {
        "id": "wsgub7zdILsH"
      },
      "outputs": [],
      "source": [
        "dataset.drop('NationalITy', axis=1, inplace=True)"
      ]
    },
    {
      "cell_type": "code",
      "execution_count": 18,
      "metadata": {
        "id": "sL1g60R7VwIE"
      },
      "outputs": [],
      "source": [
        "PlaceofBirth = {'KuwaIT': 1,'lebanon': 2,'Egypt':3,'SaudiArabia':4,'USA':5,'Quran':6,'Jordan':7,'venzuela':8,'Iran':9,'Tunis':10,'Morocco':11,'Syria':12,'Palestine':13,'Iraq':14,'Lybia':15}\n",
        "dataset.PlaceofBirth = [PlaceofBirth[item] for item in dataset.PlaceofBirth]"
      ]
    },
    {
      "cell_type": "code",
      "execution_count": 19,
      "metadata": {
        "colab": {
          "base_uri": "https://localhost:8080/"
        },
        "id": "xMvx7srxWYiY",
        "outputId": "30551435-dda1-49e3-f48f-d845d149e213"
      },
      "outputs": [
        {
          "data": {
            "text/plain": [
              "array([ 1,  2,  3,  4,  5,  7,  8,  9, 10, 11, 12, 14, 13, 15],\n",
              "      dtype=int64)"
            ]
          },
          "execution_count": 19,
          "metadata": {},
          "output_type": "execute_result"
        }
      ],
      "source": [
        "dataset['PlaceofBirth'].unique()"
      ]
    },
    {
      "cell_type": "code",
      "execution_count": 20,
      "metadata": {
        "colab": {
          "base_uri": "https://localhost:8080/"
        },
        "id": "RwzO1-24IrOt",
        "outputId": "013022f8-ae1e-45f9-96d0-811a1121b137"
      },
      "outputs": [
        {
          "data": {
            "text/plain": [
              "(480, 16)"
            ]
          },
          "execution_count": 20,
          "metadata": {},
          "output_type": "execute_result"
        }
      ],
      "source": [
        "dataset.shape"
      ]
    },
    {
      "cell_type": "code",
      "execution_count": 22,
      "metadata": {
        "colab": {
          "base_uri": "https://localhost:8080/"
        },
        "id": "JmEVQNHAI9d8",
        "outputId": "34df34c2-209c-4f1a-bf70-2762490d6d2a"
      },
      "outputs": [
        {
          "data": {
            "text/plain": [
              "array(['lowerlevel', 'MiddleSchool', 'HighSchool'], dtype=object)"
            ]
          },
          "execution_count": 22,
          "metadata": {},
          "output_type": "execute_result"
        }
      ],
      "source": [
        "dataset['StageID'].unique()"
      ]
    },
    {
      "cell_type": "code",
      "execution_count": 23,
      "metadata": {
        "id": "a5MKr4f2K3oY"
      },
      "outputs": [],
      "source": [
        "StageID = {'lowerlevel': 1,'MiddleSchool': 2,'HighSchool':3}\n",
        "dataset.StageID = [StageID[item] for item in dataset.StageID]"
      ]
    },
    {
      "cell_type": "code",
      "execution_count": 24,
      "metadata": {
        "colab": {
          "base_uri": "https://localhost:8080/"
        },
        "id": "XnxZ-1MBLG7W",
        "outputId": "bacd9544-3a57-47e7-bbce-93ee7fd161f2"
      },
      "outputs": [
        {
          "data": {
            "text/plain": [
              "array([1, 2, 3], dtype=int64)"
            ]
          },
          "execution_count": 24,
          "metadata": {},
          "output_type": "execute_result"
        }
      ],
      "source": [
        "dataset['StageID'].unique()"
      ]
    },
    {
      "cell_type": "code",
      "execution_count": 25,
      "metadata": {
        "colab": {
          "base_uri": "https://localhost:8080/"
        },
        "id": "7QiL0N6tLPJv",
        "outputId": "dc8afa4d-9242-4a84-835e-62c09fcb5dc4"
      },
      "outputs": [
        {
          "data": {
            "text/plain": [
              "array(['G-04', 'G-07', 'G-08', 'G-06', 'G-05', 'G-09', 'G-12', 'G-11',\n",
              "       'G-10', 'G-02'], dtype=object)"
            ]
          },
          "execution_count": 25,
          "metadata": {},
          "output_type": "execute_result"
        }
      ],
      "source": [
        "dataset['GradeID'].unique()"
      ]
    },
    {
      "cell_type": "code",
      "execution_count": 26,
      "metadata": {
        "id": "8aipnDlELWue"
      },
      "outputs": [],
      "source": [
        "GradeID = {'G-04': 4,'G-07': 7,'G-08':8,'G-06':6,'G-05':5,'G-09':9,'G-12':12,'G-11':11,'G-10':10,'G-02':2,}\n",
        "dataset.GradeID = [GradeID[item] for item in dataset.GradeID]"
      ]
    },
    {
      "cell_type": "code",
      "execution_count": 27,
      "metadata": {
        "colab": {
          "base_uri": "https://localhost:8080/"
        },
        "id": "qb4MdOelL-J4",
        "outputId": "f7bcd8ff-e3c5-4b30-d5bf-9ee9cb32d43c"
      },
      "outputs": [
        {
          "data": {
            "text/plain": [
              "array([ 4,  7,  8,  6,  5,  9, 12, 11, 10,  2], dtype=int64)"
            ]
          },
          "execution_count": 27,
          "metadata": {},
          "output_type": "execute_result"
        }
      ],
      "source": [
        "dataset['GradeID'].unique()"
      ]
    },
    {
      "cell_type": "code",
      "execution_count": 28,
      "metadata": {
        "colab": {
          "base_uri": "https://localhost:8080/"
        },
        "id": "g_3DUF2TMAOE",
        "outputId": "3f6edf90-6f60-4dec-ee23-848f514b3a1e"
      },
      "outputs": [
        {
          "data": {
            "text/plain": [
              "array(['A', 'B', 'C'], dtype=object)"
            ]
          },
          "execution_count": 28,
          "metadata": {},
          "output_type": "execute_result"
        }
      ],
      "source": [
        "dataset['SectionID'].unique()"
      ]
    },
    {
      "cell_type": "code",
      "execution_count": 29,
      "metadata": {
        "id": "iTcmatwYMQ0u"
      },
      "outputs": [],
      "source": [
        "SectionID = {'A': 1,'B': 2,'C':3}\n",
        "dataset.SectionID = [SectionID[item] for item in dataset.SectionID]"
      ]
    },
    {
      "cell_type": "code",
      "execution_count": 30,
      "metadata": {
        "colab": {
          "base_uri": "https://localhost:8080/"
        },
        "id": "lzk4oTZZMhFK",
        "outputId": "b3d94bce-c878-4a07-b6aa-cf2518543a12"
      },
      "outputs": [
        {
          "data": {
            "text/plain": [
              "array([1, 2, 3], dtype=int64)"
            ]
          },
          "execution_count": 30,
          "metadata": {},
          "output_type": "execute_result"
        }
      ],
      "source": [
        "dataset['SectionID'].unique()"
      ]
    },
    {
      "cell_type": "code",
      "execution_count": 31,
      "metadata": {
        "colab": {
          "base_uri": "https://localhost:8080/"
        },
        "id": "N0cBIbMiMiPG",
        "outputId": "17d7ab0e-dd1c-4673-f7a8-f8a77686681b"
      },
      "outputs": [
        {
          "data": {
            "text/plain": [
              "array(['IT', 'Math', 'Arabic', 'Science', 'English', 'Quran', 'Spanish',\n",
              "       'French', 'History', 'Biology', 'Chemistry', 'Geology'],\n",
              "      dtype=object)"
            ]
          },
          "execution_count": 31,
          "metadata": {},
          "output_type": "execute_result"
        }
      ],
      "source": [
        "dataset['Topic'].unique()"
      ]
    },
    {
      "cell_type": "code",
      "execution_count": 32,
      "metadata": {
        "id": "P0thpmMIORcf"
      },
      "outputs": [],
      "source": [
        "Topic = {'IT': 1,'Math': 2,'Arabic':3,'Science':4,'English':5,'Quran':6,'Spanish':7,'French':8,'History':9,'Biology':10,'Chemistry':11,'Geology':12}\n",
        "dataset.Topic = [Topic[item] for item in dataset.Topic]"
      ]
    },
    {
      "cell_type": "code",
      "execution_count": 33,
      "metadata": {
        "colab": {
          "base_uri": "https://localhost:8080/"
        },
        "id": "-tk6GWsfPNo6",
        "outputId": "fd611319-b9b2-4c8f-a5d8-f6bb33844fca"
      },
      "outputs": [
        {
          "data": {
            "text/plain": [
              "array([ 1,  2,  3,  4,  5,  6,  7,  8,  9, 10, 11, 12], dtype=int64)"
            ]
          },
          "execution_count": 33,
          "metadata": {},
          "output_type": "execute_result"
        }
      ],
      "source": [
        "dataset['Topic'].unique()"
      ]
    },
    {
      "cell_type": "code",
      "execution_count": 34,
      "metadata": {
        "colab": {
          "base_uri": "https://localhost:8080/"
        },
        "id": "3XHZ_k_rPP55",
        "outputId": "8e9a2fbb-0fda-47b4-83b9-684e88020cc7"
      },
      "outputs": [
        {
          "data": {
            "text/plain": [
              "array(['F', 'S'], dtype=object)"
            ]
          },
          "execution_count": 34,
          "metadata": {},
          "output_type": "execute_result"
        }
      ],
      "source": [
        "dataset['Semester'].unique()"
      ]
    },
    {
      "cell_type": "code",
      "execution_count": 35,
      "metadata": {
        "colab": {
          "base_uri": "https://localhost:8080/"
        },
        "id": "BSB6-bynPiKV",
        "outputId": "71331910-91d2-43a3-80a0-ee4c623ea199"
      },
      "outputs": [
        {
          "data": {
            "text/plain": [
              "Semester\n",
              "F    245\n",
              "S    235\n",
              "Name: count, dtype: int64"
            ]
          },
          "execution_count": 35,
          "metadata": {},
          "output_type": "execute_result"
        }
      ],
      "source": [
        "dataset['Semester'].value_counts()"
      ]
    },
    {
      "cell_type": "code",
      "execution_count": 36,
      "metadata": {
        "id": "Qvz4WUC3P3Ww"
      },
      "outputs": [],
      "source": [
        "Semester = {'F': 1,'S': 2}\n",
        "dataset.Semester = [Semester[item] for item in dataset.Semester]"
      ]
    },
    {
      "cell_type": "code",
      "execution_count": 37,
      "metadata": {
        "colab": {
          "base_uri": "https://localhost:8080/"
        },
        "id": "xq00H8lOQB30",
        "outputId": "cacb1609-9a66-4a0e-a0b3-47cdafe48e7d"
      },
      "outputs": [
        {
          "data": {
            "text/plain": [
              "array([1, 2], dtype=int64)"
            ]
          },
          "execution_count": 37,
          "metadata": {},
          "output_type": "execute_result"
        }
      ],
      "source": [
        "dataset['Semester'].unique()"
      ]
    },
    {
      "cell_type": "code",
      "execution_count": 38,
      "metadata": {
        "colab": {
          "base_uri": "https://localhost:8080/"
        },
        "id": "_iYtJp8_QEPO",
        "outputId": "3e971a44-9fb4-4603-c992-8c503f3106ba"
      },
      "outputs": [
        {
          "data": {
            "text/plain": [
              "Relation\n",
              "Father    283\n",
              "Mum       197\n",
              "Name: count, dtype: int64"
            ]
          },
          "execution_count": 38,
          "metadata": {},
          "output_type": "execute_result"
        }
      ],
      "source": [
        "dataset['Relation'].value_counts()"
      ]
    },
    {
      "cell_type": "code",
      "execution_count": 39,
      "metadata": {
        "id": "VrhjgfrpQJBz"
      },
      "outputs": [],
      "source": [
        "Relation = {'Father': 0,'Mum': 1}\n",
        "dataset.Relation = [Relation[item] for item in dataset.Relation]"
      ]
    },
    {
      "cell_type": "code",
      "execution_count": 40,
      "metadata": {
        "colab": {
          "base_uri": "https://localhost:8080/"
        },
        "id": "V1La_4e1QTMJ",
        "outputId": "9d383990-f30e-48be-9e94-6429ac5f764d"
      },
      "outputs": [
        {
          "data": {
            "text/plain": [
              "array([0, 1], dtype=int64)"
            ]
          },
          "execution_count": 40,
          "metadata": {},
          "output_type": "execute_result"
        }
      ],
      "source": [
        "dataset['Relation'].unique()"
      ]
    },
    {
      "cell_type": "code",
      "execution_count": 41,
      "metadata": {
        "colab": {
          "base_uri": "https://localhost:8080/"
        },
        "id": "TLaUMG8AQaVX",
        "outputId": "4d6f3dd5-b3a9-498d-f36f-6bf0b30e4648"
      },
      "outputs": [
        {
          "data": {
            "text/plain": [
              "array(['Yes', 'No'], dtype=object)"
            ]
          },
          "execution_count": 41,
          "metadata": {},
          "output_type": "execute_result"
        }
      ],
      "source": [
        "dataset['ParentAnsweringSurvey'].unique()"
      ]
    },
    {
      "cell_type": "code",
      "execution_count": 42,
      "metadata": {
        "id": "ANUXFOsLQhZs"
      },
      "outputs": [],
      "source": [
        "ParentAnsweringSurvey = {'Yes': 0,'No': 1}\n",
        "dataset.ParentAnsweringSurvey = [ParentAnsweringSurvey[item] for item in dataset.ParentAnsweringSurvey]"
      ]
    },
    {
      "cell_type": "code",
      "execution_count": 43,
      "metadata": {
        "colab": {
          "base_uri": "https://localhost:8080/"
        },
        "id": "sl2PQggDQ04K",
        "outputId": "2075cefe-48f7-4918-b58e-6ed932fd9c3b"
      },
      "outputs": [
        {
          "data": {
            "text/plain": [
              "array([0, 1], dtype=int64)"
            ]
          },
          "execution_count": 43,
          "metadata": {},
          "output_type": "execute_result"
        }
      ],
      "source": [
        "dataset['ParentAnsweringSurvey'].unique()"
      ]
    },
    {
      "cell_type": "code",
      "execution_count": 44,
      "metadata": {
        "colab": {
          "base_uri": "https://localhost:8080/"
        },
        "id": "VY1y-k5hQ3iB",
        "outputId": "b46fb416-d545-4e18-ba4c-df460ace95a4"
      },
      "outputs": [
        {
          "data": {
            "text/plain": [
              "array(['Good', 'Bad'], dtype=object)"
            ]
          },
          "execution_count": 44,
          "metadata": {},
          "output_type": "execute_result"
        }
      ],
      "source": [
        "dataset['ParentschoolSatisfaction'].unique()"
      ]
    },
    {
      "cell_type": "code",
      "execution_count": 45,
      "metadata": {
        "id": "FuF-p8dBQ-Oo"
      },
      "outputs": [],
      "source": [
        "ParentschoolSatisfaction = {'Good': 0,'Bad': 1}\n",
        "dataset.ParentschoolSatisfaction = [ParentschoolSatisfaction[item] for item in dataset.ParentschoolSatisfaction]"
      ]
    },
    {
      "cell_type": "code",
      "execution_count": 46,
      "metadata": {
        "colab": {
          "base_uri": "https://localhost:8080/"
        },
        "id": "6YKHA8JvRE5m",
        "outputId": "787c7292-edda-4aeb-a970-43d77c48c6ae"
      },
      "outputs": [
        {
          "data": {
            "text/plain": [
              "array([0, 1], dtype=int64)"
            ]
          },
          "execution_count": 46,
          "metadata": {},
          "output_type": "execute_result"
        }
      ],
      "source": [
        "dataset['ParentschoolSatisfaction'].unique()"
      ]
    },
    {
      "cell_type": "code",
      "execution_count": 47,
      "metadata": {
        "colab": {
          "base_uri": "https://localhost:8080/"
        },
        "id": "9q1ujHCuRG40",
        "outputId": "4821e263-2c7e-479b-c99e-3b2d31f6fc48"
      },
      "outputs": [
        {
          "data": {
            "text/plain": [
              "array(['Under-7', 'Above-7'], dtype=object)"
            ]
          },
          "execution_count": 47,
          "metadata": {},
          "output_type": "execute_result"
        }
      ],
      "source": [
        "dataset['StudentAbsenceDays'].unique()"
      ]
    },
    {
      "cell_type": "code",
      "execution_count": 48,
      "metadata": {
        "id": "QDRDv5u3RNmV"
      },
      "outputs": [],
      "source": [
        "StudentAbsenceDays = {'Under-7': 0,'Above-7': 1}\n",
        "dataset.StudentAbsenceDays = [StudentAbsenceDays[item] for item in dataset.StudentAbsenceDays]"
      ]
    },
    {
      "cell_type": "code",
      "execution_count": 49,
      "metadata": {
        "colab": {
          "base_uri": "https://localhost:8080/"
        },
        "id": "m2_KqAPqRbb5",
        "outputId": "8efe055b-cf9b-4632-9a90-712b77bb34e8"
      },
      "outputs": [
        {
          "data": {
            "text/plain": [
              "array([0, 1], dtype=int64)"
            ]
          },
          "execution_count": 49,
          "metadata": {},
          "output_type": "execute_result"
        }
      ],
      "source": [
        "dataset['StudentAbsenceDays'].unique()"
      ]
    },
    {
      "cell_type": "markdown",
      "metadata": {
        "id": "Rar3tKqPp_1W"
      },
      "source": [
        "now checking the correation and heatmap"
      ]
    },
    {
      "cell_type": "code",
      "execution_count": 50,
      "metadata": {
        "colab": {
          "base_uri": "https://localhost:8080/",
          "height": 539
        },
        "id": "dX8pdyvxRdLO",
        "outputId": "8a7f967f-d261-45e0-e72e-a4c9f08570df"
      },
      "outputs": [
        {
          "data": {
            "text/html": [
              "<div>\n",
              "<style scoped>\n",
              "    .dataframe tbody tr th:only-of-type {\n",
              "        vertical-align: middle;\n",
              "    }\n",
              "\n",
              "    .dataframe tbody tr th {\n",
              "        vertical-align: top;\n",
              "    }\n",
              "\n",
              "    .dataframe thead th {\n",
              "        text-align: right;\n",
              "    }\n",
              "</style>\n",
              "<table border=\"1\" class=\"dataframe\">\n",
              "  <thead>\n",
              "    <tr style=\"text-align: right;\">\n",
              "      <th></th>\n",
              "      <th>gender</th>\n",
              "      <th>PlaceofBirth</th>\n",
              "      <th>StageID</th>\n",
              "      <th>GradeID</th>\n",
              "      <th>SectionID</th>\n",
              "      <th>Topic</th>\n",
              "      <th>Semester</th>\n",
              "      <th>Relation</th>\n",
              "      <th>raisedhands</th>\n",
              "      <th>VisITedResources</th>\n",
              "      <th>AnnouncementsView</th>\n",
              "      <th>Discussion</th>\n",
              "      <th>ParentAnsweringSurvey</th>\n",
              "      <th>ParentschoolSatisfaction</th>\n",
              "      <th>StudentAbsenceDays</th>\n",
              "    </tr>\n",
              "  </thead>\n",
              "  <tbody>\n",
              "    <tr>\n",
              "      <th>gender</th>\n",
              "      <td>1.000000</td>\n",
              "      <td>0.016105</td>\n",
              "      <td>-0.017793</td>\n",
              "      <td>-0.018304</td>\n",
              "      <td>-0.054907</td>\n",
              "      <td>0.071017</td>\n",
              "      <td>-0.049156</td>\n",
              "      <td>0.195142</td>\n",
              "      <td>0.149978</td>\n",
              "      <td>0.210932</td>\n",
              "      <td>0.052139</td>\n",
              "      <td>0.124703</td>\n",
              "      <td>-0.022359</td>\n",
              "      <td>-0.093478</td>\n",
              "      <td>-0.209011</td>\n",
              "    </tr>\n",
              "    <tr>\n",
              "      <th>PlaceofBirth</th>\n",
              "      <td>0.016105</td>\n",
              "      <td>1.000000</td>\n",
              "      <td>-0.085201</td>\n",
              "      <td>-0.091757</td>\n",
              "      <td>-0.151550</td>\n",
              "      <td>0.491876</td>\n",
              "      <td>0.112804</td>\n",
              "      <td>0.242755</td>\n",
              "      <td>0.227104</td>\n",
              "      <td>0.291238</td>\n",
              "      <td>0.286739</td>\n",
              "      <td>0.003740</td>\n",
              "      <td>-0.074358</td>\n",
              "      <td>-0.244247</td>\n",
              "      <td>-0.051104</td>\n",
              "    </tr>\n",
              "    <tr>\n",
              "      <th>StageID</th>\n",
              "      <td>-0.017793</td>\n",
              "      <td>-0.085201</td>\n",
              "      <td>1.000000</td>\n",
              "      <td>0.951452</td>\n",
              "      <td>-0.296416</td>\n",
              "      <td>0.148853</td>\n",
              "      <td>0.029512</td>\n",
              "      <td>-0.034205</td>\n",
              "      <td>0.172751</td>\n",
              "      <td>0.068621</td>\n",
              "      <td>0.163666</td>\n",
              "      <td>0.161406</td>\n",
              "      <td>-0.114025</td>\n",
              "      <td>0.014272</td>\n",
              "      <td>-0.112536</td>\n",
              "    </tr>\n",
              "    <tr>\n",
              "      <th>GradeID</th>\n",
              "      <td>-0.018304</td>\n",
              "      <td>-0.091757</td>\n",
              "      <td>0.951452</td>\n",
              "      <td>1.000000</td>\n",
              "      <td>-0.329056</td>\n",
              "      <td>0.219534</td>\n",
              "      <td>0.076370</td>\n",
              "      <td>-0.034626</td>\n",
              "      <td>0.194382</td>\n",
              "      <td>0.078741</td>\n",
              "      <td>0.198552</td>\n",
              "      <td>0.180966</td>\n",
              "      <td>-0.116915</td>\n",
              "      <td>0.018349</td>\n",
              "      <td>-0.084896</td>\n",
              "    </tr>\n",
              "    <tr>\n",
              "      <th>SectionID</th>\n",
              "      <td>-0.054907</td>\n",
              "      <td>-0.151550</td>\n",
              "      <td>-0.296416</td>\n",
              "      <td>-0.329056</td>\n",
              "      <td>1.000000</td>\n",
              "      <td>-0.224213</td>\n",
              "      <td>0.046763</td>\n",
              "      <td>0.005783</td>\n",
              "      <td>-0.143862</td>\n",
              "      <td>-0.080909</td>\n",
              "      <td>-0.144955</td>\n",
              "      <td>-0.102538</td>\n",
              "      <td>0.018449</td>\n",
              "      <td>0.070405</td>\n",
              "      <td>-0.037062</td>\n",
              "    </tr>\n",
              "    <tr>\n",
              "      <th>Topic</th>\n",
              "      <td>0.071017</td>\n",
              "      <td>0.491876</td>\n",
              "      <td>0.148853</td>\n",
              "      <td>0.219534</td>\n",
              "      <td>-0.224213</td>\n",
              "      <td>1.000000</td>\n",
              "      <td>0.279511</td>\n",
              "      <td>0.241447</td>\n",
              "      <td>0.304377</td>\n",
              "      <td>0.378792</td>\n",
              "      <td>0.334392</td>\n",
              "      <td>-0.023449</td>\n",
              "      <td>-0.054063</td>\n",
              "      <td>-0.165179</td>\n",
              "      <td>-0.098395</td>\n",
              "    </tr>\n",
              "    <tr>\n",
              "      <th>Semester</th>\n",
              "      <td>-0.049156</td>\n",
              "      <td>0.112804</td>\n",
              "      <td>0.029512</td>\n",
              "      <td>0.076370</td>\n",
              "      <td>0.046763</td>\n",
              "      <td>0.279511</td>\n",
              "      <td>1.000000</td>\n",
              "      <td>0.148705</td>\n",
              "      <td>0.178358</td>\n",
              "      <td>0.173219</td>\n",
              "      <td>0.287066</td>\n",
              "      <td>0.019083</td>\n",
              "      <td>-0.023628</td>\n",
              "      <td>0.025258</td>\n",
              "      <td>-0.072462</td>\n",
              "    </tr>\n",
              "    <tr>\n",
              "      <th>Relation</th>\n",
              "      <td>0.195142</td>\n",
              "      <td>0.242755</td>\n",
              "      <td>-0.034205</td>\n",
              "      <td>-0.034626</td>\n",
              "      <td>0.005783</td>\n",
              "      <td>0.241447</td>\n",
              "      <td>0.148705</td>\n",
              "      <td>1.000000</td>\n",
              "      <td>0.364237</td>\n",
              "      <td>0.360240</td>\n",
              "      <td>0.339505</td>\n",
              "      <td>0.026720</td>\n",
              "      <td>-0.163811</td>\n",
              "      <td>-0.287698</td>\n",
              "      <td>-0.219687</td>\n",
              "    </tr>\n",
              "    <tr>\n",
              "      <th>raisedhands</th>\n",
              "      <td>0.149978</td>\n",
              "      <td>0.227104</td>\n",
              "      <td>0.172751</td>\n",
              "      <td>0.194382</td>\n",
              "      <td>-0.143862</td>\n",
              "      <td>0.304377</td>\n",
              "      <td>0.178358</td>\n",
              "      <td>0.364237</td>\n",
              "      <td>1.000000</td>\n",
              "      <td>0.691572</td>\n",
              "      <td>0.643918</td>\n",
              "      <td>0.339386</td>\n",
              "      <td>-0.316570</td>\n",
              "      <td>-0.297015</td>\n",
              "      <td>-0.463882</td>\n",
              "    </tr>\n",
              "    <tr>\n",
              "      <th>VisITedResources</th>\n",
              "      <td>0.210932</td>\n",
              "      <td>0.291238</td>\n",
              "      <td>0.068621</td>\n",
              "      <td>0.078741</td>\n",
              "      <td>-0.080909</td>\n",
              "      <td>0.378792</td>\n",
              "      <td>0.173219</td>\n",
              "      <td>0.360240</td>\n",
              "      <td>0.691572</td>\n",
              "      <td>1.000000</td>\n",
              "      <td>0.594500</td>\n",
              "      <td>0.243292</td>\n",
              "      <td>-0.382472</td>\n",
              "      <td>-0.363835</td>\n",
              "      <td>-0.499030</td>\n",
              "    </tr>\n",
              "    <tr>\n",
              "      <th>AnnouncementsView</th>\n",
              "      <td>0.052139</td>\n",
              "      <td>0.286739</td>\n",
              "      <td>0.163666</td>\n",
              "      <td>0.198552</td>\n",
              "      <td>-0.144955</td>\n",
              "      <td>0.334392</td>\n",
              "      <td>0.287066</td>\n",
              "      <td>0.339505</td>\n",
              "      <td>0.643918</td>\n",
              "      <td>0.594500</td>\n",
              "      <td>1.000000</td>\n",
              "      <td>0.417290</td>\n",
              "      <td>-0.396357</td>\n",
              "      <td>-0.298744</td>\n",
              "      <td>-0.312134</td>\n",
              "    </tr>\n",
              "    <tr>\n",
              "      <th>Discussion</th>\n",
              "      <td>0.124703</td>\n",
              "      <td>0.003740</td>\n",
              "      <td>0.161406</td>\n",
              "      <td>0.180966</td>\n",
              "      <td>-0.102538</td>\n",
              "      <td>-0.023449</td>\n",
              "      <td>0.019083</td>\n",
              "      <td>0.026720</td>\n",
              "      <td>0.339386</td>\n",
              "      <td>0.243292</td>\n",
              "      <td>0.417290</td>\n",
              "      <td>1.000000</td>\n",
              "      <td>-0.232197</td>\n",
              "      <td>-0.061104</td>\n",
              "      <td>-0.218778</td>\n",
              "    </tr>\n",
              "    <tr>\n",
              "      <th>ParentAnsweringSurvey</th>\n",
              "      <td>-0.022359</td>\n",
              "      <td>-0.074358</td>\n",
              "      <td>-0.114025</td>\n",
              "      <td>-0.116915</td>\n",
              "      <td>0.018449</td>\n",
              "      <td>-0.054063</td>\n",
              "      <td>-0.023628</td>\n",
              "      <td>-0.163811</td>\n",
              "      <td>-0.316570</td>\n",
              "      <td>-0.382472</td>\n",
              "      <td>-0.396357</td>\n",
              "      <td>-0.232197</td>\n",
              "      <td>1.000000</td>\n",
              "      <td>0.539875</td>\n",
              "      <td>0.261152</td>\n",
              "    </tr>\n",
              "    <tr>\n",
              "      <th>ParentschoolSatisfaction</th>\n",
              "      <td>-0.093478</td>\n",
              "      <td>-0.244247</td>\n",
              "      <td>0.014272</td>\n",
              "      <td>0.018349</td>\n",
              "      <td>0.070405</td>\n",
              "      <td>-0.165179</td>\n",
              "      <td>0.025258</td>\n",
              "      <td>-0.287698</td>\n",
              "      <td>-0.297015</td>\n",
              "      <td>-0.363835</td>\n",
              "      <td>-0.298744</td>\n",
              "      <td>-0.061104</td>\n",
              "      <td>0.539875</td>\n",
              "      <td>1.000000</td>\n",
              "      <td>0.228385</td>\n",
              "    </tr>\n",
              "    <tr>\n",
              "      <th>StudentAbsenceDays</th>\n",
              "      <td>-0.209011</td>\n",
              "      <td>-0.051104</td>\n",
              "      <td>-0.112536</td>\n",
              "      <td>-0.084896</td>\n",
              "      <td>-0.037062</td>\n",
              "      <td>-0.098395</td>\n",
              "      <td>-0.072462</td>\n",
              "      <td>-0.219687</td>\n",
              "      <td>-0.463882</td>\n",
              "      <td>-0.499030</td>\n",
              "      <td>-0.312134</td>\n",
              "      <td>-0.218778</td>\n",
              "      <td>0.261152</td>\n",
              "      <td>0.228385</td>\n",
              "      <td>1.000000</td>\n",
              "    </tr>\n",
              "  </tbody>\n",
              "</table>\n",
              "</div>"
            ],
            "text/plain": [
              "                            gender  PlaceofBirth   StageID   GradeID  \\\n",
              "gender                    1.000000      0.016105 -0.017793 -0.018304   \n",
              "PlaceofBirth              0.016105      1.000000 -0.085201 -0.091757   \n",
              "StageID                  -0.017793     -0.085201  1.000000  0.951452   \n",
              "GradeID                  -0.018304     -0.091757  0.951452  1.000000   \n",
              "SectionID                -0.054907     -0.151550 -0.296416 -0.329056   \n",
              "Topic                     0.071017      0.491876  0.148853  0.219534   \n",
              "Semester                 -0.049156      0.112804  0.029512  0.076370   \n",
              "Relation                  0.195142      0.242755 -0.034205 -0.034626   \n",
              "raisedhands               0.149978      0.227104  0.172751  0.194382   \n",
              "VisITedResources          0.210932      0.291238  0.068621  0.078741   \n",
              "AnnouncementsView         0.052139      0.286739  0.163666  0.198552   \n",
              "Discussion                0.124703      0.003740  0.161406  0.180966   \n",
              "ParentAnsweringSurvey    -0.022359     -0.074358 -0.114025 -0.116915   \n",
              "ParentschoolSatisfaction -0.093478     -0.244247  0.014272  0.018349   \n",
              "StudentAbsenceDays       -0.209011     -0.051104 -0.112536 -0.084896   \n",
              "\n",
              "                          SectionID     Topic  Semester  Relation  \\\n",
              "gender                    -0.054907  0.071017 -0.049156  0.195142   \n",
              "PlaceofBirth              -0.151550  0.491876  0.112804  0.242755   \n",
              "StageID                   -0.296416  0.148853  0.029512 -0.034205   \n",
              "GradeID                   -0.329056  0.219534  0.076370 -0.034626   \n",
              "SectionID                  1.000000 -0.224213  0.046763  0.005783   \n",
              "Topic                     -0.224213  1.000000  0.279511  0.241447   \n",
              "Semester                   0.046763  0.279511  1.000000  0.148705   \n",
              "Relation                   0.005783  0.241447  0.148705  1.000000   \n",
              "raisedhands               -0.143862  0.304377  0.178358  0.364237   \n",
              "VisITedResources          -0.080909  0.378792  0.173219  0.360240   \n",
              "AnnouncementsView         -0.144955  0.334392  0.287066  0.339505   \n",
              "Discussion                -0.102538 -0.023449  0.019083  0.026720   \n",
              "ParentAnsweringSurvey      0.018449 -0.054063 -0.023628 -0.163811   \n",
              "ParentschoolSatisfaction   0.070405 -0.165179  0.025258 -0.287698   \n",
              "StudentAbsenceDays        -0.037062 -0.098395 -0.072462 -0.219687   \n",
              "\n",
              "                          raisedhands  VisITedResources  AnnouncementsView  \\\n",
              "gender                       0.149978          0.210932           0.052139   \n",
              "PlaceofBirth                 0.227104          0.291238           0.286739   \n",
              "StageID                      0.172751          0.068621           0.163666   \n",
              "GradeID                      0.194382          0.078741           0.198552   \n",
              "SectionID                   -0.143862         -0.080909          -0.144955   \n",
              "Topic                        0.304377          0.378792           0.334392   \n",
              "Semester                     0.178358          0.173219           0.287066   \n",
              "Relation                     0.364237          0.360240           0.339505   \n",
              "raisedhands                  1.000000          0.691572           0.643918   \n",
              "VisITedResources             0.691572          1.000000           0.594500   \n",
              "AnnouncementsView            0.643918          0.594500           1.000000   \n",
              "Discussion                   0.339386          0.243292           0.417290   \n",
              "ParentAnsweringSurvey       -0.316570         -0.382472          -0.396357   \n",
              "ParentschoolSatisfaction    -0.297015         -0.363835          -0.298744   \n",
              "StudentAbsenceDays          -0.463882         -0.499030          -0.312134   \n",
              "\n",
              "                          Discussion  ParentAnsweringSurvey  \\\n",
              "gender                      0.124703              -0.022359   \n",
              "PlaceofBirth                0.003740              -0.074358   \n",
              "StageID                     0.161406              -0.114025   \n",
              "GradeID                     0.180966              -0.116915   \n",
              "SectionID                  -0.102538               0.018449   \n",
              "Topic                      -0.023449              -0.054063   \n",
              "Semester                    0.019083              -0.023628   \n",
              "Relation                    0.026720              -0.163811   \n",
              "raisedhands                 0.339386              -0.316570   \n",
              "VisITedResources            0.243292              -0.382472   \n",
              "AnnouncementsView           0.417290              -0.396357   \n",
              "Discussion                  1.000000              -0.232197   \n",
              "ParentAnsweringSurvey      -0.232197               1.000000   \n",
              "ParentschoolSatisfaction   -0.061104               0.539875   \n",
              "StudentAbsenceDays         -0.218778               0.261152   \n",
              "\n",
              "                          ParentschoolSatisfaction  StudentAbsenceDays  \n",
              "gender                                   -0.093478           -0.209011  \n",
              "PlaceofBirth                             -0.244247           -0.051104  \n",
              "StageID                                   0.014272           -0.112536  \n",
              "GradeID                                   0.018349           -0.084896  \n",
              "SectionID                                 0.070405           -0.037062  \n",
              "Topic                                    -0.165179           -0.098395  \n",
              "Semester                                  0.025258           -0.072462  \n",
              "Relation                                 -0.287698           -0.219687  \n",
              "raisedhands                              -0.297015           -0.463882  \n",
              "VisITedResources                         -0.363835           -0.499030  \n",
              "AnnouncementsView                        -0.298744           -0.312134  \n",
              "Discussion                               -0.061104           -0.218778  \n",
              "ParentAnsweringSurvey                     0.539875            0.261152  \n",
              "ParentschoolSatisfaction                  1.000000            0.228385  \n",
              "StudentAbsenceDays                        0.228385            1.000000  "
            ]
          },
          "execution_count": 50,
          "metadata": {},
          "output_type": "execute_result"
        }
      ],
      "source": [
        "dataset.corr(numeric_only=True)"
      ]
    },
    {
      "cell_type": "code",
      "execution_count": 51,
      "metadata": {
        "colab": {
          "base_uri": "https://localhost:8080/",
          "height": 1000
        },
        "id": "socB8SzURhr3",
        "outputId": "7e248025-9735-4a7a-e9d7-36d897af9360"
      },
      "outputs": [
        {
          "data": {
            "text/plain": [
              "<Axes: >"
            ]
          },
          "execution_count": 51,
          "metadata": {},
          "output_type": "execute_result"
        },
        {
          "data": {
            "image/png": "[encoded data removed]",
            "text/plain": [
              "<Figure size 1000x1000 with 2 Axes>"
            ]
          },
          "metadata": {},
          "output_type": "display_data"
        }
      ],
      "source": [
        "plt.figure(figsize=(10,10))\n",
        "sns.heatmap(dataset.corr(numeric_only=True))"
      ]
    },
    {
      "cell_type": "markdown",
      "metadata": {
        "id": "FseYDHCjm6-P"
      },
      "source": [
        "**Analysis of dataset**\n",
        "\n",
        "Girls performed better than boys and they have better attendance than boys\n",
        "Most of the students are from middle school\n",
        "most of the students have enrolled for IT"
      ]
    },
    {
      "cell_type": "markdown",
      "metadata": {
        "id": "yCNz7mAkRs9C"
      },
      "source": [
        "LOGISTIC REGRESSION\n"
      ]
    },
    {
      "cell_type": "code",
      "execution_count": 97,
      "metadata": {},
      "outputs": [],
      "source": [
        "X=dataset.drop('Class',axis=1)\n",
        "y=dataset[\"Class\"]\n",
        "\n",
        "def logistic_regression(x,y,testsize):\n",
        "    X=dataset.drop('Class',axis=1)\n",
        "    y=dataset[\"Class\"]\n",
        "    X_train,X_test,y_train,y_test=train_test_split(X,y,test_size=testsize,random_state=0)\n",
        "    lr=LogisticRegression()\n",
        "    lr.fit(X_train,y_train)\n",
        "    pred = lr.predict(X_test)\n",
        "    print(\"Train Result:\\n================================================\")\n",
        "    print(f\"Accuracy Score: {accuracy_score(y_test, pred) * 100:.2f}%\")\n",
        "    print(\"_______________________________________________\")\n",
        "    print(f\"CLASSIFICATION REPORT:\\n{classification_report(y_test, pred)}\")\n",
        "    print(\"_______________________________________________\")\n",
        "    print(f\"Confusion Matrix: \\n {confusion_matrix(y_test, pred)}\\n\")"
      ]
    },
    {
      "cell_type": "markdown",
      "metadata": {
        "id": "eXP0MN0LXN4x"
      },
      "source": [
        "starting with 50:50  train and test data"
      ]
    },
    {
      "cell_type": "code",
      "execution_count": 98,
      "metadata": {
        "colab": {
          "base_uri": "https://localhost:8080/"
        },
        "id": "Cnw4pJNqVKNh",
        "outputId": "7fd91679-ce14-45a9-d9e1-5fd709529bad"
      },
      "outputs": [
        {
          "name": "stdout",
          "output_type": "stream",
          "text": [
            "Train Result:\n",
            "================================================\n",
            "Accuracy Score: 67.50%\n",
            "_______________________________________________\n",
            "CLASSIFICATION REPORT:\n",
            "              precision    recall  f1-score   support\n",
            "\n",
            "           H       0.63      0.56      0.59        68\n",
            "           L       0.74      0.88      0.80        60\n",
            "           M       0.66      0.63      0.65       112\n",
            "\n",
            "    accuracy                           0.68       240\n",
            "   macro avg       0.68      0.69      0.68       240\n",
            "weighted avg       0.67      0.68      0.67       240\n",
            "\n",
            "_______________________________________________\n",
            "Confusion Matrix: \n",
            " [[38  0 30]\n",
            " [ 0 53  7]\n",
            " [22 19 71]]\n",
            "\n"
          ]
        },
        {
          "name": "stderr",
          "output_type": "stream",
          "text": [
            "c:\\Users\\Fatma Alagroudy\\AppData\\Local\\Programs\\Python\\Python312\\Lib\\site-packages\\sklearn\\linear_model\\_logistic.py:469: ConvergenceWarning: lbfgs failed to converge (status=1):\n",
            "STOP: TOTAL NO. of ITERATIONS REACHED LIMIT.\n",
            "\n",
            "Increase the number of iterations (max_iter) or scale the data as shown in:\n",
            "    https://scikit-learn.org/stable/modules/preprocessing.html\n",
            "Please also refer to the documentation for alternative solver options:\n",
            "    https://scikit-learn.org/stable/modules/linear_model.html#logistic-regression\n",
            "  n_iter_i = _check_optimize_result(\n"
          ]
        }
      ],
      "source": [
        "logistic_regression(X,y,0.5)"
      ]
    },
    {
      "cell_type": "markdown",
      "metadata": {
        "id": "MwTEVnA0XVg-"
      },
      "source": [
        "now 80:20 train and test data split"
      ]
    },
    {
      "cell_type": "code",
      "execution_count": 99,
      "metadata": {
        "id": "C2dMD0RsXGw9"
      },
      "outputs": [
        {
          "name": "stdout",
          "output_type": "stream",
          "text": [
            "Train Result:\n",
            "================================================\n",
            "Accuracy Score: 64.58%\n",
            "_______________________________________________\n",
            "CLASSIFICATION REPORT:\n",
            "              precision    recall  f1-score   support\n",
            "\n",
            "           H       0.53      0.64      0.58        28\n",
            "           L       0.78      0.91      0.84        23\n",
            "           M       0.66      0.51      0.57        45\n",
            "\n",
            "    accuracy                           0.65        96\n",
            "   macro avg       0.65      0.69      0.67        96\n",
            "weighted avg       0.65      0.65      0.64        96\n",
            "\n",
            "_______________________________________________\n",
            "Confusion Matrix: \n",
            " [[18  0 10]\n",
            " [ 0 21  2]\n",
            " [16  6 23]]\n",
            "\n"
          ]
        },
        {
          "name": "stderr",
          "output_type": "stream",
          "text": [
            "c:\\Users\\Fatma Alagroudy\\AppData\\Local\\Programs\\Python\\Python312\\Lib\\site-packages\\sklearn\\linear_model\\_logistic.py:469: ConvergenceWarning: lbfgs failed to converge (status=1):\n",
            "STOP: TOTAL NO. of ITERATIONS REACHED LIMIT.\n",
            "\n",
            "Increase the number of iterations (max_iter) or scale the data as shown in:\n",
            "    https://scikit-learn.org/stable/modules/preprocessing.html\n",
            "Please also refer to the documentation for alternative solver options:\n",
            "    https://scikit-learn.org/stable/modules/linear_model.html#logistic-regression\n",
            "  n_iter_i = _check_optimize_result(\n"
          ]
        }
      ],
      "source": [
        "logistic_regression(X,y,0.2)"
      ]
    },
    {
      "cell_type": "markdown",
      "metadata": {
        "id": "1dA1b9ETYJ6G"
      },
      "source": [
        "now 75:25 train and test data split"
      ]
    },
    {
      "cell_type": "code",
      "execution_count": 103,
      "metadata": {},
      "outputs": [
        {
          "name": "stdout",
          "output_type": "stream",
          "text": [
            "Train Result:\n",
            "================================================\n",
            "Accuracy Score: 70.83%\n",
            "_______________________________________________\n",
            "CLASSIFICATION REPORT:\n",
            "              precision    recall  f1-score   support\n",
            "\n",
            "           H       0.63      0.67      0.65        33\n",
            "           L       0.87      0.79      0.83        33\n",
            "           M       0.67      0.69      0.68        54\n",
            "\n",
            "    accuracy                           0.71       120\n",
            "   macro avg       0.72      0.71      0.72       120\n",
            "weighted avg       0.71      0.71      0.71       120\n",
            "\n",
            "_______________________________________________\n",
            "Confusion Matrix: \n",
            " [[22  0 11]\n",
            " [ 0 26  7]\n",
            " [13  4 37]]\n",
            "\n"
          ]
        },
        {
          "name": "stderr",
          "output_type": "stream",
          "text": [
            "c:\\Users\\Fatma Alagroudy\\AppData\\Local\\Programs\\Python\\Python312\\Lib\\site-packages\\sklearn\\linear_model\\_logistic.py:469: ConvergenceWarning: lbfgs failed to converge (status=1):\n",
            "STOP: TOTAL NO. of ITERATIONS REACHED LIMIT.\n",
            "\n",
            "Increase the number of iterations (max_iter) or scale the data as shown in:\n",
            "    https://scikit-learn.org/stable/modules/preprocessing.html\n",
            "Please also refer to the documentation for alternative solver options:\n",
            "    https://scikit-learn.org/stable/modules/linear_model.html#logistic-regression\n",
            "  n_iter_i = _check_optimize_result(\n"
          ]
        }
      ],
      "source": [
        "logistic_regression(X,y,0.25)"
      ]
    },
    {
      "cell_type": "markdown",
      "metadata": {
        "id": "M-kozno9Ya-v"
      },
      "source": [
        "**now** 70:30 train and test data split"
      ]
    },
    {
      "cell_type": "code",
      "execution_count": 102,
      "metadata": {},
      "outputs": [
        {
          "name": "stdout",
          "output_type": "stream",
          "text": [
            "Train Result:\n",
            "================================================\n",
            "Accuracy Score: 73.61%\n",
            "_______________________________________________\n",
            "CLASSIFICATION REPORT:\n",
            "              precision    recall  f1-score   support\n",
            "\n",
            "           H       0.68      0.64      0.66        39\n",
            "           L       0.76      0.94      0.84        34\n",
            "           M       0.75      0.69      0.72        71\n",
            "\n",
            "    accuracy                           0.74       144\n",
            "   macro avg       0.73      0.76      0.74       144\n",
            "weighted avg       0.73      0.74      0.73       144\n",
            "\n",
            "_______________________________________________\n",
            "Confusion Matrix: \n",
            " [[25  0 14]\n",
            " [ 0 32  2]\n",
            " [12 10 49]]\n",
            "\n"
          ]
        },
        {
          "name": "stderr",
          "output_type": "stream",
          "text": [
            "c:\\Users\\Fatma Alagroudy\\AppData\\Local\\Programs\\Python\\Python312\\Lib\\site-packages\\sklearn\\linear_model\\_logistic.py:469: ConvergenceWarning: lbfgs failed to converge (status=1):\n",
            "STOP: TOTAL NO. of ITERATIONS REACHED LIMIT.\n",
            "\n",
            "Increase the number of iterations (max_iter) or scale the data as shown in:\n",
            "    https://scikit-learn.org/stable/modules/preprocessing.html\n",
            "Please also refer to the documentation for alternative solver options:\n",
            "    https://scikit-learn.org/stable/modules/linear_model.html#logistic-regression\n",
            "  n_iter_i = _check_optimize_result(\n"
          ]
        }
      ],
      "source": [
        "logistic_regression(X,y,0.3)"
      ]
    },
    {
      "cell_type": "markdown",
      "metadata": {
        "id": "6-JyL93Irpux"
      },
      "source": [
        "**Accuracy of results of logistic regression with various test and train data proportion **\n",
        "\n",
        "\n",
        "1.   50:50 -67.50%\n",
        "2.   80:20 -64.58%\n",
        "3.   75:25 -70.83%\n",
        "4.   70:30 -73.61%\n",
        "\n",
        "Among these highest accuracy is obtained in 70:30 proportion with 73.61%\n"
      ]
    },
    {
      "cell_type": "markdown",
      "metadata": {
        "id": "-sKODu54h-Ou"
      },
      "source": [
        "**NAIVE BAYES**"
      ]
    },
    {
      "cell_type": "code",
      "execution_count": 105,
      "metadata": {},
      "outputs": [],
      "source": [
        "def naive_bayes(X,y,testsize):\n",
        "    X=dataset.drop('Class',axis=1)\n",
        "    y=dataset[\"Class\"]\n",
        "    X_train,X_test,y_train,y_test=train_test_split(X,y,test_size=testsize,random_state=0)\n",
        "    X_train.shape,X_test.shape\n",
        "    gaussNb=GaussianNB()\n",
        "    gaussNb.fit(X_train,y_train)\n",
        "    y_predict=gaussNb.predict(X_test)\n",
        "    print(\"Train Result:\\n================================================\")\n",
        "    print(f\"Accuracy Score: {accuracy_score(y_test, y_predict) * 100:.2f}%\")\n",
        "    print(\"_______________________________________________\")\n",
        "    print(f\"CLASSIFICATION REPORT:\\n{classification_report(y_test, y_predict)}\")\n",
        "    print(\"_______________________________________________\")\n",
        "    print(f\"Confusion Matrix: \\n {confusion_matrix(y_test, y_predict)}\\n\")"
      ]
    },
    {
      "cell_type": "markdown",
      "metadata": {
        "id": "TuDVD4JbqNR9"
      },
      "source": [
        "starting with 50:50  train and test data"
      ]
    },
    {
      "cell_type": "code",
      "execution_count": 106,
      "metadata": {
        "colab": {
          "base_uri": "https://localhost:8080/",
          "height": 74
        },
        "id": "H0uClpole7Fu",
        "outputId": "8be2df41-726b-4b74-c307-52c573f65af0"
      },
      "outputs": [
        {
          "name": "stdout",
          "output_type": "stream",
          "text": [
            "Train Result:\n",
            "================================================\n",
            "Accuracy Score: 70.42%\n",
            "_______________________________________________\n",
            "CLASSIFICATION REPORT:\n",
            "              precision    recall  f1-score   support\n",
            "\n",
            "           H       0.63      0.76      0.69        68\n",
            "           L       0.73      0.92      0.81        60\n",
            "           M       0.75      0.55      0.64       112\n",
            "\n",
            "    accuracy                           0.70       240\n",
            "   macro avg       0.70      0.74      0.71       240\n",
            "weighted avg       0.71      0.70      0.70       240\n",
            "\n",
            "_______________________________________________\n",
            "Confusion Matrix: \n",
            " [[52  0 16]\n",
            " [ 0 55  5]\n",
            " [30 20 62]]\n",
            "\n"
          ]
        }
      ],
      "source": [
        "naive_bayes(X,y,0.5)"
      ]
    },
    {
      "cell_type": "markdown",
      "metadata": {
        "id": "_d04VEK-iuMu"
      },
      "source": [
        "now splitting 80:20 train and test proportion"
      ]
    },
    {
      "cell_type": "code",
      "execution_count": 107,
      "metadata": {},
      "outputs": [
        {
          "name": "stdout",
          "output_type": "stream",
          "text": [
            "Train Result:\n",
            "================================================\n",
            "Accuracy Score: 70.83%\n",
            "_______________________________________________\n",
            "CLASSIFICATION REPORT:\n",
            "              precision    recall  f1-score   support\n",
            "\n",
            "           H       0.59      0.82      0.69        28\n",
            "           L       0.79      0.96      0.86        23\n",
            "           M       0.79      0.51      0.62        45\n",
            "\n",
            "    accuracy                           0.71        96\n",
            "   macro avg       0.72      0.76      0.72        96\n",
            "weighted avg       0.73      0.71      0.70        96\n",
            "\n",
            "_______________________________________________\n",
            "Confusion Matrix: \n",
            " [[23  0  5]\n",
            " [ 0 22  1]\n",
            " [16  6 23]]\n",
            "\n"
          ]
        }
      ],
      "source": [
        "naive_bayes(X,y,0.2)"
      ]
    },
    {
      "cell_type": "markdown",
      "metadata": {
        "id": "78vDSJZfjKH_"
      },
      "source": [
        "now splitting 75:25 train and test proportion"
      ]
    },
    {
      "cell_type": "code",
      "execution_count": 108,
      "metadata": {
        "colab": {
          "base_uri": "https://localhost:8080/",
          "height": 74
        },
        "id": "mPmOep9-jKIA",
        "outputId": "c0b9c237-715f-441e-9b87-bf21d2817d2c"
      },
      "outputs": [
        {
          "name": "stdout",
          "output_type": "stream",
          "text": [
            "Train Result:\n",
            "================================================\n",
            "Accuracy Score: 70.00%\n",
            "_______________________________________________\n",
            "CLASSIFICATION REPORT:\n",
            "              precision    recall  f1-score   support\n",
            "\n",
            "           H       0.60      0.73      0.66        33\n",
            "           L       0.79      0.91      0.85        33\n",
            "           M       0.71      0.56      0.62        54\n",
            "\n",
            "    accuracy                           0.70       120\n",
            "   macro avg       0.70      0.73      0.71       120\n",
            "weighted avg       0.70      0.70      0.69       120\n",
            "\n",
            "_______________________________________________\n",
            "Confusion Matrix: \n",
            " [[24  0  9]\n",
            " [ 0 30  3]\n",
            " [16  8 30]]\n",
            "\n"
          ]
        }
      ],
      "source": [
        "naive_bayes(X,y,0.25)"
      ]
    },
    {
      "cell_type": "markdown",
      "metadata": {
        "id": "bbQsfMmmjRYV"
      },
      "source": [
        "now splitting 70:30 train and test proportion"
      ]
    },
    {
      "cell_type": "code",
      "execution_count": 109,
      "metadata": {
        "colab": {
          "base_uri": "https://localhost:8080/",
          "height": 74
        },
        "id": "FcLV8mKrjRYW",
        "outputId": "c56ae53a-163d-40f8-a5f9-fcd8a348ef9e"
      },
      "outputs": [
        {
          "name": "stdout",
          "output_type": "stream",
          "text": [
            "Train Result:\n",
            "================================================\n",
            "Accuracy Score: 71.53%\n",
            "_______________________________________________\n",
            "CLASSIFICATION REPORT:\n",
            "              precision    recall  f1-score   support\n",
            "\n",
            "           H       0.60      0.77      0.67        39\n",
            "           L       0.76      0.94      0.84        34\n",
            "           M       0.79      0.58      0.67        71\n",
            "\n",
            "    accuracy                           0.72       144\n",
            "   macro avg       0.72      0.76      0.73       144\n",
            "weighted avg       0.73      0.72      0.71       144\n",
            "\n",
            "_______________________________________________\n",
            "Confusion Matrix: \n",
            " [[30  0  9]\n",
            " [ 0 32  2]\n",
            " [20 10 41]]\n",
            "\n"
          ]
        }
      ],
      "source": [
        "naive_bayes(X,y,0.3)"
      ]
    },
    {
      "cell_type": "markdown",
      "metadata": {
        "id": "CiGO1x7nwcP3"
      },
      "source": [
        "**Accuracy of results of Naive bayes with various test and train data proportion**\n",
        "\n",
        "\n",
        "1.   50:50 -70.42%\n",
        "2.   80:20 -70.83%\n",
        "3.   75:25 -70.00%\n",
        "4.   70:30 -71.53%\n",
        "\n",
        "Among these highest accuracy is obtained in 70:30 proportion with 71.53%\n"
      ]
    },
    {
      "cell_type": "markdown",
      "metadata": {
        "id": "05MGWOtYlwb3"
      },
      "source": [
        "**KNN CLASSIFICATION**"
      ]
    },
    {
      "cell_type": "code",
      "execution_count": 111,
      "metadata": {},
      "outputs": [],
      "source": [
        "def KNN(X,y,testsize):\n",
        "    X=dataset.drop('Class',axis=1)\n",
        "    y=dataset[\"Class\"]\n",
        "    X_train,X_test,y_train,y_test=train_test_split(X,y,test_size=testsize,random_state=0)\n",
        "    KNN = KNeighborsClassifier()\n",
        "    KNN.fit(X_train, y_train)\n",
        "    KNN_predict = KNN.predict(X_test)\n",
        "    print(\"Train Result:\\n================================================\")\n",
        "    print(f\"Accuracy Score: {accuracy_score(y_test, KNN_predict) * 100:.2f}%\")\n",
        "    print(\"_______________________________________________\")\n",
        "    print(f\"CLASSIFICATION REPORT:\\n{classification_report(y_test, KNN_predict)}\")\n",
        "    print(\"_______________________________________________\")\n",
        "    print(f\"Confusion Matrix: \\n {confusion_matrix(y_test, KNN_predict)}\\n\")\n",
        "    \n",
        "    "
      ]
    },
    {
      "cell_type": "markdown",
      "metadata": {
        "id": "tYlEpRCwqSI1"
      },
      "source": [
        "\n",
        "\n",
        "\n",
        "\n",
        "\n",
        "\n",
        "starting with 50:50  train and test data"
      ]
    },
    {
      "cell_type": "code",
      "execution_count": 112,
      "metadata": {},
      "outputs": [
        {
          "name": "stdout",
          "output_type": "stream",
          "text": [
            "Train Result:\n",
            "================================================\n",
            "Accuracy Score: 61.25%\n",
            "_______________________________________________\n",
            "CLASSIFICATION REPORT:\n",
            "              precision    recall  f1-score   support\n",
            "\n",
            "           H       0.57      0.51      0.54        68\n",
            "           L       0.67      0.75      0.71        60\n",
            "           M       0.60      0.60      0.60       112\n",
            "\n",
            "    accuracy                           0.61       240\n",
            "   macro avg       0.61      0.62      0.62       240\n",
            "weighted avg       0.61      0.61      0.61       240\n",
            "\n",
            "_______________________________________________\n",
            "Confusion Matrix: \n",
            " [[35  3 30]\n",
            " [ 0 45 15]\n",
            " [26 19 67]]\n",
            "\n"
          ]
        }
      ],
      "source": [
        "KNN(X,y,0.5)"
      ]
    },
    {
      "cell_type": "markdown",
      "metadata": {
        "id": "E9ZFjZxamFzL"
      },
      "source": [
        "now splitting 80:20 train and test proportion"
      ]
    },
    {
      "cell_type": "code",
      "execution_count": 113,
      "metadata": {},
      "outputs": [
        {
          "name": "stdout",
          "output_type": "stream",
          "text": [
            "Train Result:\n",
            "================================================\n",
            "Accuracy Score: 65.62%\n",
            "_______________________________________________\n",
            "CLASSIFICATION REPORT:\n",
            "              precision    recall  f1-score   support\n",
            "\n",
            "           H       0.60      0.54      0.57        28\n",
            "           L       0.74      0.87      0.80        23\n",
            "           M       0.64      0.62      0.63        45\n",
            "\n",
            "    accuracy                           0.66        96\n",
            "   macro avg       0.66      0.68      0.67        96\n",
            "weighted avg       0.65      0.66      0.65        96\n",
            "\n",
            "_______________________________________________\n",
            "Confusion Matrix: \n",
            " [[15  0 13]\n",
            " [ 0 20  3]\n",
            " [10  7 28]]\n",
            "\n"
          ]
        }
      ],
      "source": [
        "KNN(X,y,0.2)"
      ]
    },
    {
      "cell_type": "markdown",
      "metadata": {
        "id": "EabOCZoMmPcI"
      },
      "source": [
        "now splitting 75:25 train and test proportion"
      ]
    },
    {
      "cell_type": "code",
      "execution_count": 114,
      "metadata": {},
      "outputs": [
        {
          "name": "stdout",
          "output_type": "stream",
          "text": [
            "Train Result:\n",
            "================================================\n",
            "Accuracy Score: 62.50%\n",
            "_______________________________________________\n",
            "CLASSIFICATION REPORT:\n",
            "              precision    recall  f1-score   support\n",
            "\n",
            "           H       0.55      0.48      0.52        33\n",
            "           L       0.76      0.76      0.76        33\n",
            "           M       0.59      0.63      0.61        54\n",
            "\n",
            "    accuracy                           0.62       120\n",
            "   macro avg       0.63      0.62      0.63       120\n",
            "weighted avg       0.62      0.62      0.62       120\n",
            "\n",
            "_______________________________________________\n",
            "Confusion Matrix: \n",
            " [[16  1 16]\n",
            " [ 0 25  8]\n",
            " [13  7 34]]\n",
            "\n"
          ]
        }
      ],
      "source": [
        "KNN(X,y,0.25)"
      ]
    },
    {
      "cell_type": "markdown",
      "metadata": {
        "id": "eWvYU0lbmYPS"
      },
      "source": [
        "now splitting 70:30 train and test proportion"
      ]
    },
    {
      "cell_type": "code",
      "execution_count": 115,
      "metadata": {},
      "outputs": [
        {
          "name": "stdout",
          "output_type": "stream",
          "text": [
            "Train Result:\n",
            "================================================\n",
            "Accuracy Score: 63.19%\n",
            "_______________________________________________\n",
            "CLASSIFICATION REPORT:\n",
            "              precision    recall  f1-score   support\n",
            "\n",
            "           H       0.53      0.49      0.51        39\n",
            "           L       0.71      0.79      0.75        34\n",
            "           M       0.64      0.63      0.64        71\n",
            "\n",
            "    accuracy                           0.63       144\n",
            "   macro avg       0.63      0.64      0.63       144\n",
            "weighted avg       0.63      0.63      0.63       144\n",
            "\n",
            "_______________________________________________\n",
            "Confusion Matrix: \n",
            " [[19  2 18]\n",
            " [ 0 27  7]\n",
            " [17  9 45]]\n",
            "\n"
          ]
        }
      ],
      "source": [
        "KNN(X,y,0.3)"
      ]
    },
    {
      "cell_type": "markdown",
      "metadata": {
        "id": "zRu_mZoL0EG8"
      },
      "source": [
        "**Accuracy of results of KNN Classification with various test and train data proportion**\n",
        "\n",
        "\n",
        "1.   50:50 -61.25%\n",
        "2.   80:20 -65.62%\n",
        "3.   75:25 -62.50%\n",
        "4.   70:30 -63.19%\n",
        "\n",
        "Among these highest accuracy is obtained in 80:20 proportion with 65.62%\n"
      ]
    },
    {
      "cell_type": "markdown",
      "metadata": {
        "id": "ltjMj-XY0olR"
      },
      "source": [
        "**ANALYSIS OF ALL THE ALGORITHMS AND BEST ALGORITHM TO USE FOR THIS DATASET**\n",
        "\n",
        "\n",
        "1.   Logistic Regression=73.61%\n",
        "2.   Naive Bayes=71.53%\n",
        "3.   KNN Classification=65.62%\n",
        "\n",
        "Best Algorithm with better accuracy is **Logistic Regression with accuracy 74.22%**\n",
        "and Least Accuracy is **KNN Classification with 65.62%**"
      ]
    }
  ],
  "metadata": {
    "colab": {
      "provenance": []
    },
    "kaggle": {
      "accelerator": "none",
      "dataSources": [
        {
          "datasetId": 436,
          "sourceId": 920,
          "sourceType": "datasetVersion"
        }
      ],
      "dockerImageVersionId": 30357,
      "isGpuEnabled": false,
      "isInternetEnabled": false,
      "language": "python",
      "sourceType": "notebook"
    },
    "kernelspec": {
      "display_name": "Python 3",
      "language": "python",
      "name": "python3"
    },
    "language_info": {
      "codemirror_mode": {
        "name": "ipython",
        "version": 3
      },
      "file_extension": ".py",
      "mimetype": "text/x-python",
      "name": "python",
      "nbconvert_exporter": "python",
      "pygments_lexer": "ipython3",
      "version": "3.12.2"
    }
  },
  "nbformat": 4,
  "nbformat_minor": 0
}
