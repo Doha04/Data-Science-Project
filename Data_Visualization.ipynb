{
 "cells": [
  {
   "cell_type": "markdown",
   "metadata": {},
   "source": [
    "<font size=\"5\">***IMPORT NECESSARY LIBRARIES***</font><br>"
   ]
  },
  {
   "cell_type": "code",
   "execution_count": 41,
   "metadata": {},
   "outputs": [],
   "source": [
    "import numpy as np\n",
    "import pandas as pd\n",
    "import matplotlib.pyplot as plt\n",
    "import seaborn as sns\n",
    "from scipy.stats import norm\n",
    "from sklearn.model_selection import train_test_split\n",
    "from sklearn.linear_model import LinearRegression\n",
    "from sklearn.metrics import mean_squared_error, r2_score\n",
    "from sklearn.preprocessing import StandardScaler\n",
    "from sklearn.preprocessing import LabelEncoder\n",
    "import statsmodels.api as sm\n",
    "import streamlit as st\n",
    "import plotly.express as px\n",
    "from dash import html, dcc, Input, Output\n",
    "import dash\n",
    "import plotly.graph_objects as go\n",
    "import warnings\n",
    "warnings.filterwarnings('ignore')\n",
    "\n",
    "#to make sure all libraries are installed, run in your terminal -> pip install -r requirements.txt"
   ]
  },
  {
   "cell_type": "markdown",
   "metadata": {},
   "source": [
    "<font size=\"5\">***DATA ACQUISITION***</font><br>"
   ]
  },
  {
   "cell_type": "code",
   "execution_count": 42,
   "metadata": {},
   "outputs": [
    {
     "name": "stdout",
     "output_type": "stream",
     "text": [
      "['school', 'sex', 'address', 'famsize', 'Pstatus', 'Mjob', 'Fjob', 'reason', 'guardian', 'schoolsup', 'famsup', 'paid', 'activities', 'nursery', 'higher', 'internet', 'romantic']\n"
     ]
    }
   ],
   "source": [
    "df = pd.read_csv(\"student_data.csv\")\n",
    "df['average'] = df[['G1', 'G2', 'G3']].mean(axis=1)\n",
    "# step 2: Dropping the original G1, G2, G3 columns\n",
    "df = df.drop(columns=['G1', 'G2', 'G3'])\n",
    "X_features = df.drop(columns=['average'])\n",
    "Target = df.iloc[:, -1]\n",
    "\n",
    "#Detect non-numeric datatypes\n",
    "non_numeric_columns = df.select_dtypes(exclude=[np.number]).columns.tolist()\n",
    "print (non_numeric_columns)\n",
    "\n",
    "# Convert non-numeric columns into numerical values using Label Encoding\n",
    "label_encoders = LabelEncoder()\n",
    "for col in non_numeric_columns:\n",
    "    df[col] = label_encoders.fit_transform(df[col])\n",
    "\n",
    "Target = df.iloc[:, -1]"
   ]
  },
  {
   "cell_type": "markdown",
   "metadata": {},
   "source": [
    "<font size=\"5\">***DATA VISUALIZATION DASHBOARD***</font><br>"
   ]
  },
  {
   "cell_type": "markdown",
   "metadata": {},
   "source": [
    "Data Visualization Dashboard for all features against the target variable, Average"
   ]
  },
  {
   "cell_type": "code",
   "execution_count": 43,
   "metadata": {},
   "outputs": [
    {
     "data": {
      "text/html": [
       "\n",
       "        <iframe\n",
       "            width=\"100%\"\n",
       "            height=\"650\"\n",
       "            src=\"http://127.0.0.1:8006/\"\n",
       "            frameborder=\"0\"\n",
       "            allowfullscreen\n",
       "            \n",
       "        ></iframe>\n",
       "        "
      ],
      "text/plain": [
       "<IPython.lib.display.IFrame at 0x1a333f72c30>"
      ]
     },
     "metadata": {},
     "output_type": "display_data"
    }
   ],
   "source": [
    "##Data Visualization for all features##\n",
    "Features = X_features\n",
    "\n",
    "#Data Visualisation Dashboard\n",
    "app = dash.Dash(__name__)\n",
    "app.layout = html.Div([\n",
    "    html.H1(\"DATA VISUALIZATION DASHBOARD\", style={'color': 'pink', 'textAlign':'center'}),\n",
    "    html.Div([\n",
    "        dcc.Dropdown(\n",
    "            id = 'X',\n",
    "            options = [{'label': Feature_Name, 'value': Feature_Name} for Feature_Name in Features.columns],\n",
    "            value = Features.columns[0], #default\n",
    "            clearable = False,\n",
    "            style = {'color': 'purple', 'textAlign':'center'}\n",
    "        ),\n",
    "        dcc.RadioItems(\n",
    "            id = 'typeplot',\n",
    "            options = [\n",
    "                {'label':'Scatter Plot', 'value': 'scatter'},\n",
    "                {'label':'Bar Plot', 'value': 'bar'}\n",
    "            ],\n",
    "            value = 'scatter', #default\n",
    "            labelStyle = {'display': 'block', 'color': 'white', 'textAlign':'center'}\n",
    "        ),\n",
    "    ], style = {'width': '50%', 'margin':'auto', 'textAlign': 'center'}),\n",
    "    dcc.Graph (id = 'graph')\n",
    "    ])\n",
    "\n",
    "@app.callback(\n",
    "    Output('graph','figure'),\n",
    "    [\n",
    "        Input('X','value'),\n",
    "        Input('typeplot','value')\n",
    "    ]\n",
    ")\n",
    "def update_graph(X, typeplot):\n",
    "\n",
    "    y_label = 'Target Variable'\n",
    "\n",
    "    if typeplot == 'scatter':\n",
    "        fig = px.scatter (Features, x=X, y=Target, title=f'Target Variable vs {X}')\n",
    "        fig.update_layout(yaxis_title=y_label)\n",
    "    elif typeplot == 'bar':\n",
    "        fig = px.bar (Features, x=X, y=Target, title=f'Target Variable vs {X}')\n",
    "        fig.update_layout(yaxis_title=y_label)\n",
    "    return fig\n",
    "\n",
    "if __name__ == '__main__':\n",
    "    app.run_server (debug=True, port=8006)\n",
    "    \n",
    "    "
   ]
  }
 ],
 "metadata": {
  "kernelspec": {
   "display_name": "Python 3",
   "language": "python",
   "name": "python3"
  },
  "language_info": {
   "codemirror_mode": {
    "name": "ipython",
    "version": 3
   },
   "file_extension": ".py",
   "mimetype": "text/x-python",
   "name": "python",
   "nbconvert_exporter": "python",
   "pygments_lexer": "ipython3",
   "version": "3.12.3"
  }
 },
 "nbformat": 4,
 "nbformat_minor": 2
}
